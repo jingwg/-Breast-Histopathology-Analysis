{
 "cells": [
  {
   "cell_type": "code",
   "execution_count": 1,
   "metadata": {
    "colab": {
     "base_uri": "https://localhost:8080/",
     "height": 122
    },
    "colab_type": "code",
    "id": "E0d_nonf-qtM",
    "outputId": "8d78b34e-9bac-46f2-b9ba-acfd23710950"
   },
   "outputs": [
    {
     "name": "stdout",
     "output_type": "stream",
     "text": [
      "Go to this URL in a browser: https://accounts.google.com/o/oauth2/auth?client_id=947318989803-6bn6qk8qdgf4n4g3pfee6491hc0brc4i.apps.googleusercontent.com&redirect_uri=urn%3Aietf%3Awg%3Aoauth%3A2.0%3Aoob&scope=email%20https%3A%2F%2Fwww.googleapis.com%2Fauth%2Fdocs.test%20https%3A%2F%2Fwww.googleapis.com%2Fauth%2Fdrive%20https%3A%2F%2Fwww.googleapis.com%2Fauth%2Fdrive.photos.readonly%20https%3A%2F%2Fwww.googleapis.com%2Fauth%2Fpeopleapi.readonly&response_type=code\n",
      "\n",
      "Enter your authorization code:\n",
      "··········\n",
      "Mounted at /content/gdrive\n"
     ]
    }
   ],
   "source": [
    "#Load data from google drive\n",
    "from google.colab import drive\n",
    "drive.mount('/content/gdrive')"
   ]
  },
  {
   "cell_type": "code",
   "execution_count": 0,
   "metadata": {
    "colab": {
     "base_uri": "https://localhost:8080/",
     "height": 34
    },
    "colab_type": "code",
    "id": "sSOm4G5npRXj",
    "outputId": "cf39d308-4dbb-461b-db01-e9fbd4583ace"
   },
   "outputs": [
    {
     "data": {
      "text/plain": [
       "0"
      ]
     },
     "execution_count": 56,
     "metadata": {
      "tags": []
     },
     "output_type": "execute_result"
    }
   ],
   "source": [
    "#gc collect python\n",
    "import gc\n",
    "gc.collect()\n",
    "\n",
    "#del varaiable_name"
   ]
  },
  {
   "cell_type": "code",
   "execution_count": 0,
   "metadata": {
    "colab": {
     "base_uri": "https://localhost:8080/",
     "height": 34
    },
    "colab_type": "code",
    "id": "tVV-pMxb_ELD",
    "outputId": "7fad67ca-1d9a-45ce-dba9-555284c5706b"
   },
   "outputs": [
    {
     "name": "stdout",
     "output_type": "stream",
     "text": [
      "gdrive\tsample_data\n"
     ]
    }
   ],
   "source": [
    "!ls"
   ]
  },
  {
   "cell_type": "code",
   "execution_count": 0,
   "metadata": {
    "colab": {
     "base_uri": "https://localhost:8080/",
     "height": 34
    },
    "colab_type": "code",
    "id": "_cs2YJ7E_Fsk",
    "outputId": "58c0d7a5-96b2-48d5-b74a-ac8c62f13452"
   },
   "outputs": [
    {
     "name": "stdout",
     "output_type": "stream",
     "text": [
      "hw5_task1.ipynb  hw5_task3.ipynb  X_df.npy  y_df.npy\n"
     ]
    }
   ],
   "source": [
    "!ls gdrive/\"My Drive\"/'Colab Notebooks'"
   ]
  },
  {
   "cell_type": "code",
   "execution_count": 0,
   "metadata": {
    "colab": {},
    "colab_type": "code",
    "id": "535g866j_d-g"
   },
   "outputs": [],
   "source": [
    "import numpy as np"
   ]
  },
  {
   "cell_type": "code",
   "execution_count": 0,
   "metadata": {
    "colab": {},
    "colab_type": "code",
    "id": "V7wxzAWs_R30"
   },
   "outputs": [],
   "source": [
    "#check reshape\n",
    "#check \n",
    "X = np.load('gdrive/My Drive/Colab Notebooks/X_df.npy')"
   ]
  },
  {
   "cell_type": "code",
   "execution_count": 0,
   "metadata": {
    "colab": {},
    "colab_type": "code",
    "id": "qdJ-6EOL_k46"
   },
   "outputs": [],
   "source": [
    "y = np.load('gdrive/My Drive/Colab Notebooks/y_df.npy')"
   ]
  },
  {
   "cell_type": "code",
   "execution_count": 0,
   "metadata": {
    "colab": {},
    "colab_type": "code",
    "id": "ILhOmf5Y4m6e"
   },
   "outputs": [],
   "source": [
    "#subsample train data \n",
    "\n",
    "#class 0\n",
    "condiction_y_0 = y[:,0] == 1\n",
    "y_0 = y[condiction_y_0]\n",
    "X_0 = X[condiction_y_0]\n",
    "\n",
    "#class 1\n",
    "condiction_y_1 = y[:,1] == 1\n",
    "y_1 = y[condiction_y_1]\n",
    "X_1 = X[condiction_y_1]"
   ]
  },
  {
   "cell_type": "code",
   "execution_count": 0,
   "metadata": {
    "colab": {},
    "colab_type": "code",
    "id": "g7fOyDoS4t8_"
   },
   "outputs": [],
   "source": [
    "#sub  class 0\n",
    "choices_0 = np.random.choice(y_0.shape[0], size= 50000)\n",
    "y_0_sub = y_0[choices_0]\n",
    "X_0_sub = X_0[choices_0]\n",
    "\n",
    "#sub  class 1\n",
    "choices_1 = np.random.choice(y_1.shape[0], size= 50000)\n",
    "y_1_sub = y_1[choices_1]\n",
    "X_1_sub = X_1[choices_1]"
   ]
  },
  {
   "cell_type": "code",
   "execution_count": 0,
   "metadata": {
    "colab": {},
    "colab_type": "code",
    "id": "pnK6Tx2I44dC"
   },
   "outputs": [],
   "source": [
    "#combine to class together to get a train sub\n",
    "X_sub = np.concatenate((X_0_sub, X_1_sub), axis=0)\n",
    "y_sub = np.concatenate((y_0_sub, y_1_sub), axis=0)"
   ]
  },
  {
   "cell_type": "code",
   "execution_count": 28,
   "metadata": {
    "colab": {
     "base_uri": "https://localhost:8080/",
     "height": 51
    },
    "colab_type": "code",
    "id": "KlcUrpWJAQ9X",
    "outputId": "dc63b95d-f86e-4d5a-b7bd-c0e470632feb"
   },
   "outputs": [
    {
     "name": "stdout",
     "output_type": "stream",
     "text": [
      "X subset shape (100000, 50, 50, 3)\n",
      "y subset shape (100000, 2)\n"
     ]
    }
   ],
   "source": [
    "print('X subset shape', X_sub.shape)\n",
    "print('y subset shape', y_sub.shape)"
   ]
  },
  {
   "cell_type": "code",
   "execution_count": 0,
   "metadata": {
    "colab": {},
    "colab_type": "code",
    "id": "b6ARPTAa_pEe"
   },
   "outputs": [],
   "source": [
    "from sklearn.model_selection import train_test_split\n",
    "X_train_sub, X_test_sub, y_train_sub, y_test_sub = train_test_split(X_sub, y_sub, test_size=0.2, random_state=42)"
   ]
  },
  {
   "cell_type": "code",
   "execution_count": 0,
   "metadata": {
    "colab": {
     "base_uri": "https://localhost:8080/",
     "height": 105
    },
    "colab_type": "code",
    "id": "Uw9F2pZWAD6O",
    "outputId": "6e7f2d13-2996-4ce3-a4ec-185a04e33bcb"
   },
   "outputs": [
    {
     "name": "stderr",
     "output_type": "stream",
     "text": [
      "Using TensorFlow backend.\n"
     ]
    },
    {
     "name": "stdout",
     "output_type": "stream",
     "text": [
      "WARNING:tensorflow:From /usr/local/lib/python3.6/dist-packages/tensorflow/python/framework/op_def_library.py:263: colocate_with (from tensorflow.python.framework.ops) is deprecated and will be removed in a future version.\n",
      "Instructions for updating:\n",
      "Colocations handled automatically by placer.\n"
     ]
    }
   ],
   "source": [
    "from keras.layers import Conv2D, MaxPooling2D, Flatten, Dense,BatchNormalization\n",
    "from keras.models import Sequential\n",
    "\n",
    "num_classes = 2\n",
    "cnn = Sequential()\n",
    "input_shape = (50, 50, 3)\n",
    "cnn.add(Conv2D(32, kernel_size=(3, 3),activation='relu',input_shape=input_shape))\n",
    "cnn.add(BatchNormalization())\n",
    "cnn.add(MaxPooling2D(pool_size=(2, 2)))\n",
    "cnn.add(Conv2D(32, (3, 3), activation='relu'))\n",
    "cnn.add(BatchNormalization())\n",
    "cnn.add(MaxPooling2D(pool_size=(2, 2)))\n",
    "cnn.add(Flatten())\n",
    "cnn.add(Dense(64, activation='relu'))\n",
    "cnn.add(Dense(num_classes, activation='softmax'))"
   ]
  },
  {
   "cell_type": "code",
   "execution_count": 0,
   "metadata": {
    "colab": {
     "base_uri": "https://localhost:8080/",
     "height": 442
    },
    "colab_type": "code",
    "id": "3Oz4jqLvAxiO",
    "outputId": "53918f68-bf5e-4328-d4f2-e16a11bfde43"
   },
   "outputs": [
    {
     "name": "stdout",
     "output_type": "stream",
     "text": [
      "_________________________________________________________________\n",
      "Layer (type)                 Output Shape              Param #   \n",
      "=================================================================\n",
      "conv2d_1 (Conv2D)            (None, 48, 48, 32)        896       \n",
      "_________________________________________________________________\n",
      "batch_normalization_1 (Batch (None, 48, 48, 32)        128       \n",
      "_________________________________________________________________\n",
      "max_pooling2d_1 (MaxPooling2 (None, 24, 24, 32)        0         \n",
      "_________________________________________________________________\n",
      "conv2d_2 (Conv2D)            (None, 22, 22, 32)        9248      \n",
      "_________________________________________________________________\n",
      "batch_normalization_2 (Batch (None, 22, 22, 32)        128       \n",
      "_________________________________________________________________\n",
      "max_pooling2d_2 (MaxPooling2 (None, 11, 11, 32)        0         \n",
      "_________________________________________________________________\n",
      "flatten_1 (Flatten)          (None, 3872)              0         \n",
      "_________________________________________________________________\n",
      "dense_1 (Dense)              (None, 64)                247872    \n",
      "_________________________________________________________________\n",
      "dense_2 (Dense)              (None, 2)                 130       \n",
      "=================================================================\n",
      "Total params: 258,402\n",
      "Trainable params: 258,274\n",
      "Non-trainable params: 128\n",
      "_________________________________________________________________\n"
     ]
    }
   ],
   "source": [
    "cnn.summary()"
   ]
  },
  {
   "cell_type": "code",
   "execution_count": 0,
   "metadata": {
    "colab": {},
    "colab_type": "code",
    "id": "q-k4052OA3tt"
   },
   "outputs": [],
   "source": [
    "cnn.compile(\"adam\", \"categorical_crossentropy\", metrics=['accuracy'])"
   ]
  },
  {
   "cell_type": "code",
   "execution_count": 0,
   "metadata": {
    "colab": {
     "base_uri": "https://localhost:8080/",
     "height": 714
    },
    "colab_type": "code",
    "id": "oUsrzFYFBBLF",
    "outputId": "9bef189f-345f-4d80-94e0-dc22b41e6ce0"
   },
   "outputs": [
    {
     "name": "stdout",
     "output_type": "stream",
     "text": [
      "Train on 80000 samples, validate on 20000 samples\n",
      "Epoch 1/20\n",
      "80000/80000 [==============================] - 9s 116us/step - loss: 0.0433 - acc: 0.9843 - val_loss: 1.3704 - val_acc: 0.8085\n",
      "Epoch 2/20\n",
      "80000/80000 [==============================] - 9s 111us/step - loss: 0.0396 - acc: 0.9857 - val_loss: 1.8214 - val_acc: 0.7553\n",
      "Epoch 3/20\n",
      "80000/80000 [==============================] - 9s 112us/step - loss: 0.0371 - acc: 0.9867 - val_loss: 1.0026 - val_acc: 0.8466\n",
      "Epoch 4/20\n",
      "80000/80000 [==============================] - 9s 111us/step - loss: 0.0345 - acc: 0.9878 - val_loss: 1.5145 - val_acc: 0.7556\n",
      "Epoch 5/20\n",
      "80000/80000 [==============================] - 9s 113us/step - loss: 0.0314 - acc: 0.9895 - val_loss: 0.9809 - val_acc: 0.8479\n",
      "Epoch 6/20\n",
      "80000/80000 [==============================] - 9s 117us/step - loss: 0.0354 - acc: 0.9879 - val_loss: 1.8482 - val_acc: 0.7148\n",
      "Epoch 7/20\n",
      "80000/80000 [==============================] - 9s 113us/step - loss: 0.0271 - acc: 0.9905 - val_loss: 1.2963 - val_acc: 0.8061\n",
      "Epoch 8/20\n",
      "80000/80000 [==============================] - 9s 112us/step - loss: 0.0270 - acc: 0.9908 - val_loss: 1.0828 - val_acc: 0.8247\n",
      "Epoch 9/20\n",
      "80000/80000 [==============================] - 9s 111us/step - loss: 0.0303 - acc: 0.9896 - val_loss: 1.3131 - val_acc: 0.7340\n",
      "Epoch 10/20\n",
      "80000/80000 [==============================] - 9s 112us/step - loss: 0.0282 - acc: 0.9900 - val_loss: 1.2143 - val_acc: 0.8016\n",
      "Epoch 11/20\n",
      "80000/80000 [==============================] - 9s 113us/step - loss: 0.0276 - acc: 0.9906 - val_loss: 0.9545 - val_acc: 0.8565\n",
      "Epoch 12/20\n",
      "80000/80000 [==============================] - 9s 112us/step - loss: 0.0248 - acc: 0.9916 - val_loss: 1.7572 - val_acc: 0.7732\n",
      "Epoch 13/20\n",
      "80000/80000 [==============================] - 9s 112us/step - loss: 0.0219 - acc: 0.9925 - val_loss: 1.1222 - val_acc: 0.8296\n",
      "Epoch 14/20\n",
      "80000/80000 [==============================] - 9s 113us/step - loss: 0.0299 - acc: 0.9901 - val_loss: 0.9499 - val_acc: 0.8325\n",
      "Epoch 15/20\n",
      "80000/80000 [==============================] - 9s 116us/step - loss: 0.0238 - acc: 0.9920 - val_loss: 0.9273 - val_acc: 0.8470\n",
      "Epoch 16/20\n",
      "80000/80000 [==============================] - 9s 112us/step - loss: 0.0231 - acc: 0.9921 - val_loss: 1.6362 - val_acc: 0.8072\n",
      "Epoch 17/20\n",
      "80000/80000 [==============================] - 9s 112us/step - loss: 0.0212 - acc: 0.9927 - val_loss: 1.5126 - val_acc: 0.8173\n",
      "Epoch 18/20\n",
      "80000/80000 [==============================] - 9s 115us/step - loss: 0.0214 - acc: 0.9926 - val_loss: 1.5482 - val_acc: 0.8237\n",
      "Epoch 19/20\n",
      "80000/80000 [==============================] - 9s 112us/step - loss: 0.0187 - acc: 0.9935 - val_loss: 1.1483 - val_acc: 0.8600\n",
      "Epoch 20/20\n",
      "80000/80000 [==============================] - 9s 112us/step - loss: 0.0185 - acc: 0.9937 - val_loss: 1.0432 - val_acc: 0.8129\n"
     ]
    }
   ],
   "source": [
    "history_cnn = cnn.fit(X_train_sub, y_train_sub, batch_size=128, epochs=20, verbose=1, validation_data=[X_test_sub, y_test_sub])"
   ]
  },
  {
   "cell_type": "code",
   "execution_count": 0,
   "metadata": {
    "colab": {
     "base_uri": "https://localhost:8080/",
     "height": 68
    },
    "colab_type": "code",
    "id": "_3TzDbyRCCqG",
    "outputId": "12884a98-bd29-4345-c79e-53512a6f52e7"
   },
   "outputs": [
    {
     "name": "stdout",
     "output_type": "stream",
     "text": [
      "20000/20000 [==============================] - 2s 87us/step\n",
      "Test loss: 1.043\n",
      "Test Accuracy: 0.813\n"
     ]
    }
   ],
   "source": [
    "scores = cnn.evaluate(X_test_sub, y_test_sub)\n",
    "print(\"Test loss: {:.3f}\".format(scores[0]))\n",
    "print(\"Test Accuracy: {:.3f}\".format(scores[1]))\n"
   ]
  },
  {
   "cell_type": "code",
   "execution_count": 0,
   "metadata": {
    "colab": {
     "base_uri": "https://localhost:8080/",
     "height": 295
    },
    "colab_type": "code",
    "id": "ha-IYUCI9qTI",
    "outputId": "cb6d4bd1-79c3-421d-c394-7de8606819c0"
   },
   "outputs": [
    {
     "data": {
      "image/png": "[encoded data removed]",
      "text/plain": [
       "<Figure size 432x288 with 1 Axes>"
      ]
     },
     "metadata": {
      "tags": []
     },
     "output_type": "display_data"
    }
   ],
   "source": [
    "import matplotlib.pyplot as plt # summarize history for loss\n",
    "plt.plot(history_cnn.history['loss'])\n",
    "plt.plot(history_cnn.history['val_loss'])\n",
    "plt.title('model loss')\n",
    "plt.ylabel('loss')\n",
    "plt.xlabel('epoch')\n",
    "plt.legend(['train', 'test'], loc='upper left')\n",
    "plt.show()\n"
   ]
  },
  {
   "cell_type": "code",
   "execution_count": 0,
   "metadata": {
    "colab": {
     "base_uri": "https://localhost:8080/",
     "height": 295
    },
    "colab_type": "code",
    "id": "F-CqvrSGA364",
    "outputId": "a5cdeac6-817a-44de-86bf-12114191f9d8"
   },
   "outputs": [
    {
     "data": {
      "image/png": "[encoded data removed]",
      "text/plain": [
       "<Figure size 432x288 with 1 Axes>"
      ]
     },
     "metadata": {
      "tags": []
     },
     "output_type": "display_data"
    }
   ],
   "source": [
    "#need to add accuracy plot\n",
    "plt.plot(history_cnn.history['acc'])\n",
    "plt.plot(history_cnn.history['val_acc'])\n",
    "plt.title('model acc')\n",
    "plt.ylabel('acc')\n",
    "plt.xlabel('epoch')\n",
    "plt.legend(['train', 'test'], loc='upper left')\n",
    "plt.show()\n"
   ]
  },
  {
   "cell_type": "markdown",
   "metadata": {
    "colab_type": "text",
    "id": "jtptq34Z_puc"
   },
   "source": [
    "\n",
    "From the plot of train and test loss and accuracy, i found our model is over fitting. \n",
    "The train accuracy is highly close to 1.\n",
    "\n",
    "\n"
   ]
  },
  {
   "cell_type": "code",
   "execution_count": 7,
   "metadata": {
    "colab": {
     "base_uri": "https://localhost:8080/",
     "height": 105
    },
    "colab_type": "code",
    "id": "TkmdKqFFJLwk",
    "outputId": "8fa74ae6-a461-4a86-ef67-fb8849acde45"
   },
   "outputs": [
    {
     "name": "stderr",
     "output_type": "stream",
     "text": [
      "Using TensorFlow backend.\n"
     ]
    },
    {
     "name": "stdout",
     "output_type": "stream",
     "text": [
      "WARNING:tensorflow:From /usr/local/lib/python3.6/dist-packages/tensorflow/python/framework/op_def_library.py:263: colocate_with (from tensorflow.python.framework.ops) is deprecated and will be removed in a future version.\n",
      "Instructions for updating:\n",
      "Colocations handled automatically by placer.\n"
     ]
    }
   ],
   "source": [
    "from keras.layers import Input,Conv2D, MaxPooling2D, Flatten, Dense,BatchNormalization\n",
    "from keras.models import Sequential\n",
    "\n",
    "num_classes = 2\n",
    "cnn_model = Sequential()\n",
    "input_shape = (50, 50, 3)\n",
    "cnn_model.add(Conv2D(32, kernel_size=(3, 3),activation='relu',input_shape=input_shape))\n",
    "cnn_model.add(BatchNormalization())\n",
    "cnn_model.add(MaxPooling2D(pool_size=(2, 2)))\n",
    "cnn_model.add(Conv2D(32, (3, 3), activation='relu'))\n",
    "cnn_model.add(BatchNormalization())\n",
    "cnn_model.add(MaxPooling2D(pool_size=(2, 2)))\n",
    "cnn_model.add(Flatten())\n",
    "cnn_model.add(Dense(num_classes, activation='softmax'))\n"
   ]
  },
  {
   "cell_type": "code",
   "execution_count": 0,
   "metadata": {
    "colab": {},
    "colab_type": "code",
    "id": "1Prs4NExRHTi"
   },
   "outputs": [],
   "source": [
    "cnn_model.compile(\"adam\", \"categorical_crossentropy\", metrics=['accuracy'])\n"
   ]
  },
  {
   "cell_type": "code",
   "execution_count": 0,
   "metadata": {
    "colab": {},
    "colab_type": "code",
    "id": "kmp1o34d2Kh9"
   },
   "outputs": [],
   "source": [
    "#data prepocessing \n",
    "from keras.preprocessing.image import ImageDataGenerator\n",
    "\n",
    "#the training augmentation  \n",
    "train_datagen = ImageDataGenerator(\n",
    "            rotation_range=10,\n",
    "            width_shift_range=0.1,  # randomly shift images horizontally (fraction of total width)\n",
    "            height_shift_range=0.1,  # randomly shift images vertically (fraction of total height)\n",
    "            horizontal_flip=True,  # randomly flip images\n",
    "           vertical_flip=False)\n",
    "\n"
   ]
  },
  {
   "cell_type": "code",
   "execution_count": 12,
   "metadata": {
    "colab": {
     "base_uri": "https://localhost:8080/",
     "height": 768
    },
    "colab_type": "code",
    "id": "sDY1YBTYPB5C",
    "outputId": "a204f29b-70d3-4117-ccd4-63c753b80461"
   },
   "outputs": [
    {
     "name": "stdout",
     "output_type": "stream",
     "text": [
      "WARNING:tensorflow:From /usr/local/lib/python3.6/dist-packages/tensorflow/python/ops/math_ops.py:3066: to_int32 (from tensorflow.python.ops.math_ops) is deprecated and will be removed in a future version.\n",
      "Instructions for updating:\n",
      "Use tf.cast instead.\n",
      "Epoch 1/20\n",
      "2500/2500 [==============================] - 220s 88ms/step - loss: 0.4379 - acc: 0.8170 - val_loss: 0.6001 - val_acc: 0.7459\n",
      "Epoch 2/20\n",
      "2500/2500 [==============================] - 217s 87ms/step - loss: 0.3973 - acc: 0.8320 - val_loss: 0.5713 - val_acc: 0.7307\n",
      "Epoch 3/20\n",
      "2500/2500 [==============================] - 212s 85ms/step - loss: 0.3803 - acc: 0.8387 - val_loss: 0.3943 - val_acc: 0.8306\n",
      "Epoch 4/20\n",
      "2500/2500 [==============================] - 211s 84ms/step - loss: 0.3696 - acc: 0.8426 - val_loss: 0.7840 - val_acc: 0.7564\n",
      "Epoch 5/20\n",
      "2500/2500 [==============================] - 214s 86ms/step - loss: 0.3635 - acc: 0.8452 - val_loss: 1.0840 - val_acc: 0.7052\n",
      "Epoch 6/20\n",
      "2500/2500 [==============================] - 207s 83ms/step - loss: 0.3582 - acc: 0.8478 - val_loss: 0.7666 - val_acc: 0.7578\n",
      "Epoch 7/20\n",
      "2500/2500 [==============================] - 206s 82ms/step - loss: 0.3523 - acc: 0.8513 - val_loss: 0.4195 - val_acc: 0.8397\n",
      "Epoch 8/20\n",
      "2500/2500 [==============================] - 209s 83ms/step - loss: 0.3489 - acc: 0.8530 - val_loss: 0.4175 - val_acc: 0.8272\n",
      "Epoch 9/20\n",
      "2500/2500 [==============================] - 206s 82ms/step - loss: 0.3454 - acc: 0.8542 - val_loss: 0.3774 - val_acc: 0.8393\n",
      "Epoch 10/20\n",
      "2500/2500 [==============================] - 207s 83ms/step - loss: 0.3434 - acc: 0.8554 - val_loss: 1.0717 - val_acc: 0.7086\n",
      "Epoch 11/20\n",
      "2500/2500 [==============================] - 207s 83ms/step - loss: 0.3405 - acc: 0.8570 - val_loss: 0.5070 - val_acc: 0.8122\n",
      "Epoch 12/20\n",
      "2500/2500 [==============================] - 205s 82ms/step - loss: 0.3378 - acc: 0.8575 - val_loss: 0.4998 - val_acc: 0.7759\n",
      "Epoch 13/20\n",
      "2500/2500 [==============================] - 214s 86ms/step - loss: 0.3351 - acc: 0.8587 - val_loss: 0.4238 - val_acc: 0.8413\n",
      "Epoch 14/20\n",
      "2500/2500 [==============================] - 213s 85ms/step - loss: 0.3336 - acc: 0.8595 - val_loss: 0.6470 - val_acc: 0.7682\n",
      "Epoch 15/20\n",
      "2500/2500 [==============================] - 213s 85ms/step - loss: 0.3308 - acc: 0.8611 - val_loss: 0.7130 - val_acc: 0.7885\n",
      "Epoch 16/20\n",
      "2500/2500 [==============================] - 210s 84ms/step - loss: 0.3293 - acc: 0.8617 - val_loss: 0.3470 - val_acc: 0.8531\n",
      "Epoch 17/20\n",
      "2500/2500 [==============================] - 206s 82ms/step - loss: 0.3268 - acc: 0.8630 - val_loss: 0.4064 - val_acc: 0.8217\n",
      "Epoch 18/20\n",
      "2500/2500 [==============================] - 206s 82ms/step - loss: 0.3244 - acc: 0.8645 - val_loss: 1.0010 - val_acc: 0.6098\n",
      "Epoch 19/20\n",
      "2500/2500 [==============================] - 207s 83ms/step - loss: 0.3244 - acc: 0.8641 - val_loss: 0.4485 - val_acc: 0.7884\n",
      "Epoch 20/20\n",
      "2500/2500 [==============================] - 208s 83ms/step - loss: 0.3236 - acc: 0.8647 - val_loss: 0.4876 - val_acc: 0.7995\n"
     ]
    }
   ],
   "source": [
    "# fits the model on batches with real-time data augmentation:\n",
    "epochs = 20\n",
    "batch=128\n",
    "\n",
    "history_cnn2 = cnn_model.fit_generator(train_datagen.flow(X_train_sub, y_train_sub, batch_size=batch),\n",
    "                        steps_per_epoch=len(X_train_sub) / 32, epochs=epochs, verbose=1,\n",
    "                        validation_data=[X_test_sub, y_test_sub])"
   ]
  },
  {
   "cell_type": "code",
   "execution_count": 13,
   "metadata": {
    "colab": {
     "base_uri": "https://localhost:8080/",
     "height": 68
    },
    "colab_type": "code",
    "id": "s-NESo1w3kBl",
    "outputId": "ed25fc0e-000b-446d-fa15-ccfa5359f5e8"
   },
   "outputs": [
    {
     "name": "stdout",
     "output_type": "stream",
     "text": [
      "20000/20000 [==============================] - 1s 70us/step\n",
      "Test loss: 0.488\n",
      "Test Accuracy: 0.799\n"
     ]
    }
   ],
   "source": [
    "scores = cnn_model.evaluate(X_test_sub, y_test_sub)\n",
    "print(\"Test loss: {:.3f}\".format(scores[0]))\n",
    "print(\"Test Accuracy: {:.3f}\".format(scores[1]))"
   ]
  },
  {
   "cell_type": "code",
   "execution_count": 14,
   "metadata": {
    "colab": {
     "base_uri": "https://localhost:8080/",
     "height": 295
    },
    "colab_type": "code",
    "id": "QuD5jG2lhQn0",
    "outputId": "3f52f559-43b4-4c37-c890-e806b105ad68"
   },
   "outputs": [
    {
     "data": {
      "image/png": "[encoded data removed]",
      "text/plain": [
       "<Figure size 432x288 with 1 Axes>"
      ]
     },
     "metadata": {
      "tags": []
     },
     "output_type": "display_data"
    }
   ],
   "source": [
    "import matplotlib.pyplot as plt # summarize history for loss\n",
    "plt.plot(history_cnn2.history['loss'])\n",
    "plt.plot(history_cnn2.history['val_loss'])\n",
    "plt.title('model loss')\n",
    "plt.ylabel('loss')\n",
    "plt.xlabel('epoch')\n",
    "plt.legend(['train', 'test'], loc='upper left')\n",
    "plt.show()"
   ]
  },
  {
   "cell_type": "code",
   "execution_count": 15,
   "metadata": {
    "colab": {
     "base_uri": "https://localhost:8080/",
     "height": 295
    },
    "colab_type": "code",
    "id": "jPbbmU4xBFkS",
    "outputId": "95d1693e-edb8-43ea-b405-f63a8027345c"
   },
   "outputs": [
    {
     "data": {
      "image/png": "[encoded data removed]",
      "text/plain": [
       "<Figure size 432x288 with 1 Axes>"
      ]
     },
     "metadata": {
      "tags": []
     },
     "output_type": "display_data"
    }
   ],
   "source": [
    "#need to add accuracy plot\n",
    "plt.plot(history_cnn2.history['acc'])\n",
    "plt.plot(history_cnn2.history['val_acc'])\n",
    "plt.title('model acc')\n",
    "plt.ylabel('acc')\n",
    "plt.xlabel('epoch')\n",
    "plt.legend(['train', 'test'], loc='upper left')\n",
    "plt.show()\n"
   ]
  },
  {
   "cell_type": "markdown",
   "metadata": {
    "colab_type": "text",
    "id": "wCLbXRWi3vkb"
   },
   "source": [
    "There is no improvement in the accuracy compaired with the previous model. I believe my augument parametes are in a resonable range. In future, i need to find a better way to determ the best the parameters of ImageDataGenerator. "
   ]
  },
  {
   "cell_type": "code",
   "execution_count": 0,
   "metadata": {
    "colab": {},
    "colab_type": "code",
    "id": "WPoTpraXnb0Y"
   },
   "outputs": [],
   "source": [
    "#seed the Random Numbers of tensorflow\n",
    "from numpy.random import seed\n",
    "seed(1)\n",
    "from tensorflow import set_random_seed\n",
    "set_random_seed(2)"
   ]
  },
  {
   "cell_type": "code",
   "execution_count": 9,
   "metadata": {
    "colab": {
     "base_uri": "https://localhost:8080/",
     "height": 105
    },
    "colab_type": "code",
    "id": "nH6m8riuFrii",
    "outputId": "f1f97a84-04d1-4462-bc8a-677cba150440"
   },
   "outputs": [
    {
     "name": "stderr",
     "output_type": "stream",
     "text": [
      "Using TensorFlow backend.\n"
     ]
    },
    {
     "name": "stdout",
     "output_type": "stream",
     "text": [
      "WARNING:tensorflow:From /usr/local/lib/python3.6/dist-packages/tensorflow/python/framework/op_def_library.py:263: colocate_with (from tensorflow.python.framework.ops) is deprecated and will be removed in a future version.\n",
      "Instructions for updating:\n",
      "Colocations handled automatically by placer.\n"
     ]
    }
   ],
   "source": [
    "from keras.models import Model\n",
    "from keras.layers import Input,Conv2D, MaxPooling2D, Flatten, Dense,BatchNormalization\n",
    "\n",
    "#This is a deep model \n",
    "num_classes = 2\n",
    "inputs = Input(shape=(50, 50, 3))\n",
    "conv1_1 = Conv2D(32, kernel_size=(3, 3), activation='relu', padding='same')(inputs)\n",
    "conv1_2 = Conv2D(32, kernel_size=(3, 3), activation='relu', padding='same')(conv1_1)\n",
    "conv1_3 = Conv2D(32, kernel_size=(3, 3), activation='relu', padding='same')(conv1_2)\n",
    "maxpool1 = MaxPooling2D(pool_size=(2, 2))(conv1_3)\n",
    "conv2_1 = Conv2D(32, (3, 3), activation='relu', padding='same')(maxpool1)\n",
    "conv2_2 = Conv2D(32, (3, 3), activation='relu', padding='same')(conv2_1)\n",
    "conv2_3 = Conv2D(32, (3, 3), activation='relu', padding='same')(conv2_2)\n",
    "maxpool2 = MaxPooling2D(pool_size=(2, 2))(conv2_3)\n",
    "conv3_1 = Conv2D(32, (3, 3), activation='relu', padding='same')(maxpool2)\n",
    "conv3_2 = Conv2D(32, (3, 3), activation='relu', padding='same')(conv3_1)\n",
    "conv3_3 = Conv2D(32, (3, 3), activation='relu', padding='same')(conv3_2)\n",
    "maxpool3 = MaxPooling2D(pool_size=(2, 2))(conv3_3)\n",
    "conv4_1 = Conv2D(32, (3, 3), activation='relu', padding='same')(maxpool3)\n",
    "conv4_2 = Conv2D(32, (3, 3), activation='relu', padding='same')(conv4_1)\n",
    "conv4_3 = Conv2D(32, (3, 3), activation='relu', padding='same')(conv4_2)\n",
    "maxpool4 = MaxPooling2D(pool_size=(2, 2))(conv4_3)\n",
    "flat = Flatten()(maxpool4)\n",
    "dense = Dense(64, activation='relu')(flat)\n",
    "predictions = Dense(num_classes, activation='softmax')(dense)\n",
    "cnn_deep = Model(inputs=inputs, outputs=predictions)\n",
    "\n",
    "cnn_deep.compile(optimizer='adam', loss='categorical_crossentropy',metrics=['accuracy'])"
   ]
  },
  {
   "cell_type": "code",
   "execution_count": 10,
   "metadata": {
    "colab": {
     "base_uri": "https://localhost:8080/",
     "height": 816
    },
    "colab_type": "code",
    "id": "NyO4OWNNF2Yq",
    "outputId": "aba44a09-43f9-40d5-e591-a08bd52e3dde"
   },
   "outputs": [
    {
     "name": "stdout",
     "output_type": "stream",
     "text": [
      "_________________________________________________________________\n",
      "Layer (type)                 Output Shape              Param #   \n",
      "=================================================================\n",
      "input_1 (InputLayer)         (None, 50, 50, 3)         0         \n",
      "_________________________________________________________________\n",
      "conv2d_1 (Conv2D)            (None, 50, 50, 32)        896       \n",
      "_________________________________________________________________\n",
      "conv2d_2 (Conv2D)            (None, 50, 50, 32)        9248      \n",
      "_________________________________________________________________\n",
      "conv2d_3 (Conv2D)            (None, 50, 50, 32)        9248      \n",
      "_________________________________________________________________\n",
      "max_pooling2d_1 (MaxPooling2 (None, 25, 25, 32)        0         \n",
      "_________________________________________________________________\n",
      "conv2d_4 (Conv2D)            (None, 25, 25, 32)        9248      \n",
      "_________________________________________________________________\n",
      "conv2d_5 (Conv2D)            (None, 25, 25, 32)        9248      \n",
      "_________________________________________________________________\n",
      "conv2d_6 (Conv2D)            (None, 25, 25, 32)        9248      \n",
      "_________________________________________________________________\n",
      "max_pooling2d_2 (MaxPooling2 (None, 12, 12, 32)        0         \n",
      "_________________________________________________________________\n",
      "conv2d_7 (Conv2D)            (None, 12, 12, 32)        9248      \n",
      "_________________________________________________________________\n",
      "conv2d_8 (Conv2D)            (None, 12, 12, 32)        9248      \n",
      "_________________________________________________________________\n",
      "conv2d_9 (Conv2D)            (None, 12, 12, 32)        9248      \n",
      "_________________________________________________________________\n",
      "max_pooling2d_3 (MaxPooling2 (None, 6, 6, 32)          0         \n",
      "_________________________________________________________________\n",
      "conv2d_10 (Conv2D)           (None, 6, 6, 32)          9248      \n",
      "_________________________________________________________________\n",
      "conv2d_11 (Conv2D)           (None, 6, 6, 32)          9248      \n",
      "_________________________________________________________________\n",
      "conv2d_12 (Conv2D)           (None, 6, 6, 32)          9248      \n",
      "_________________________________________________________________\n",
      "max_pooling2d_4 (MaxPooling2 (None, 3, 3, 32)          0         \n",
      "_________________________________________________________________\n",
      "flatten_1 (Flatten)          (None, 288)               0         \n",
      "_________________________________________________________________\n",
      "dense_1 (Dense)              (None, 64)                18496     \n",
      "_________________________________________________________________\n",
      "dense_2 (Dense)              (None, 2)                 130       \n",
      "=================================================================\n",
      "Total params: 121,250\n",
      "Trainable params: 121,250\n",
      "Non-trainable params: 0\n",
      "_________________________________________________________________\n"
     ]
    }
   ],
   "source": [
    "cnn_deep.summary()"
   ]
  },
  {
   "cell_type": "code",
   "execution_count": 11,
   "metadata": {
    "colab": {
     "base_uri": "https://localhost:8080/",
     "height": 1805
    },
    "colab_type": "code",
    "id": "_UzuAkv9WptK",
    "outputId": "69d0dae5-6e27-4977-8502-7e00d4d29518"
   },
   "outputs": [
    {
     "name": "stdout",
     "output_type": "stream",
     "text": [
      "WARNING:tensorflow:From /usr/local/lib/python3.6/dist-packages/tensorflow/python/ops/math_ops.py:3066: to_int32 (from tensorflow.python.ops.math_ops) is deprecated and will be removed in a future version.\n",
      "Instructions for updating:\n",
      "Use tf.cast instead.\n",
      "Train on 80000 samples, validate on 20000 samples\n",
      "Epoch 1/50\n",
      "80000/80000 [==============================] - 28s 350us/step - loss: 0.6787 - acc: 0.5781 - val_loss: 0.5460 - val_acc: 0.7681\n",
      "Epoch 2/50\n",
      "80000/80000 [==============================] - 22s 281us/step - loss: 0.4650 - acc: 0.7906 - val_loss: 0.4324 - val_acc: 0.8134\n",
      "Epoch 3/50\n",
      "80000/80000 [==============================] - 23s 289us/step - loss: 0.4237 - acc: 0.8119 - val_loss: 0.4059 - val_acc: 0.8202\n",
      "Epoch 4/50\n",
      "80000/80000 [==============================] - 23s 294us/step - loss: 0.4050 - acc: 0.8235 - val_loss: 0.4015 - val_acc: 0.8314\n",
      "Epoch 5/50\n",
      "80000/80000 [==============================] - 23s 289us/step - loss: 0.3897 - acc: 0.8309 - val_loss: 0.3871 - val_acc: 0.8353\n",
      "Epoch 6/50\n",
      "80000/80000 [==============================] - 23s 288us/step - loss: 0.3767 - acc: 0.8393 - val_loss: 0.3802 - val_acc: 0.8371\n",
      "Epoch 7/50\n",
      "80000/80000 [==============================] - 23s 290us/step - loss: 0.3656 - acc: 0.8445 - val_loss: 0.3578 - val_acc: 0.8488\n",
      "Epoch 8/50\n",
      "80000/80000 [==============================] - 23s 288us/step - loss: 0.3576 - acc: 0.8493 - val_loss: 0.3951 - val_acc: 0.8336\n",
      "Epoch 9/50\n",
      "80000/80000 [==============================] - 23s 288us/step - loss: 0.3507 - acc: 0.8520 - val_loss: 0.3761 - val_acc: 0.8468\n",
      "Epoch 10/50\n",
      "80000/80000 [==============================] - 23s 288us/step - loss: 0.3445 - acc: 0.8545 - val_loss: 0.3572 - val_acc: 0.8508\n",
      "Epoch 11/50\n",
      "80000/80000 [==============================] - 23s 288us/step - loss: 0.3422 - acc: 0.8563 - val_loss: 0.3456 - val_acc: 0.8559\n",
      "Epoch 12/50\n",
      "80000/80000 [==============================] - 23s 287us/step - loss: 0.3360 - acc: 0.8570 - val_loss: 0.3628 - val_acc: 0.8454\n",
      "Epoch 13/50\n",
      "80000/80000 [==============================] - 23s 287us/step - loss: 0.3325 - acc: 0.8608 - val_loss: 0.3764 - val_acc: 0.8331\n",
      "Epoch 14/50\n",
      "80000/80000 [==============================] - 23s 290us/step - loss: 0.3279 - acc: 0.8624 - val_loss: 0.3499 - val_acc: 0.8569\n",
      "Epoch 15/50\n",
      "80000/80000 [==============================] - 23s 288us/step - loss: 0.3256 - acc: 0.8641 - val_loss: 0.3500 - val_acc: 0.8551\n",
      "Epoch 16/50\n",
      "80000/80000 [==============================] - 23s 288us/step - loss: 0.3229 - acc: 0.8653 - val_loss: 0.3396 - val_acc: 0.8599\n",
      "Epoch 17/50\n",
      "80000/80000 [==============================] - 23s 292us/step - loss: 0.3185 - acc: 0.8685 - val_loss: 0.3526 - val_acc: 0.8530\n",
      "Epoch 18/50\n",
      "80000/80000 [==============================] - 23s 288us/step - loss: 0.3152 - acc: 0.8682 - val_loss: 0.3387 - val_acc: 0.8588\n",
      "Epoch 19/50\n",
      "80000/80000 [==============================] - 23s 288us/step - loss: 0.3143 - acc: 0.8695 - val_loss: 0.3334 - val_acc: 0.8589\n",
      "Epoch 20/50\n",
      "80000/80000 [==============================] - 23s 287us/step - loss: 0.3115 - acc: 0.8708 - val_loss: 0.3759 - val_acc: 0.8417\n",
      "Epoch 21/50\n",
      "80000/80000 [==============================] - 23s 289us/step - loss: 0.3093 - acc: 0.8707 - val_loss: 0.3380 - val_acc: 0.8623\n",
      "Epoch 22/50\n",
      "80000/80000 [==============================] - 23s 287us/step - loss: 0.3059 - acc: 0.8731 - val_loss: 0.3594 - val_acc: 0.8488\n",
      "Epoch 23/50\n",
      "80000/80000 [==============================] - 23s 287us/step - loss: 0.3040 - acc: 0.8734 - val_loss: 0.3462 - val_acc: 0.8549\n",
      "Epoch 24/50\n",
      "80000/80000 [==============================] - 23s 288us/step - loss: 0.3028 - acc: 0.8754 - val_loss: 0.3597 - val_acc: 0.8496\n",
      "Epoch 25/50\n",
      "80000/80000 [==============================] - 23s 287us/step - loss: 0.3047 - acc: 0.8738 - val_loss: 0.3363 - val_acc: 0.8631\n",
      "Epoch 26/50\n",
      "80000/80000 [==============================] - 23s 286us/step - loss: 0.2999 - acc: 0.8761 - val_loss: 0.3463 - val_acc: 0.8577\n",
      "Epoch 27/50\n",
      "80000/80000 [==============================] - 23s 287us/step - loss: 0.2987 - acc: 0.8769 - val_loss: 0.3453 - val_acc: 0.8569\n",
      "Epoch 28/50\n",
      "80000/80000 [==============================] - 23s 288us/step - loss: 0.2993 - acc: 0.8763 - val_loss: 0.3610 - val_acc: 0.8559\n",
      "Epoch 29/50\n",
      "80000/80000 [==============================] - 23s 287us/step - loss: 0.2964 - acc: 0.8769 - val_loss: 0.3369 - val_acc: 0.8620\n",
      "Epoch 30/50\n",
      "80000/80000 [==============================] - 23s 289us/step - loss: 0.2942 - acc: 0.8780 - val_loss: 0.3439 - val_acc: 0.8587\n",
      "Epoch 31/50\n",
      "80000/80000 [==============================] - 23s 288us/step - loss: 0.2935 - acc: 0.8788 - val_loss: 0.3374 - val_acc: 0.8626\n",
      "Epoch 32/50\n",
      "80000/80000 [==============================] - 23s 288us/step - loss: 0.2904 - acc: 0.8800 - val_loss: 0.3292 - val_acc: 0.8648\n",
      "Epoch 33/50\n",
      "80000/80000 [==============================] - 23s 287us/step - loss: 0.2907 - acc: 0.8798 - val_loss: 0.3390 - val_acc: 0.8602\n",
      "Epoch 34/50\n",
      "80000/80000 [==============================] - 23s 288us/step - loss: 0.2851 - acc: 0.8829 - val_loss: 0.3395 - val_acc: 0.8645\n",
      "Epoch 35/50\n",
      "80000/80000 [==============================] - 23s 290us/step - loss: 0.2803 - acc: 0.8850 - val_loss: 0.3355 - val_acc: 0.8612\n",
      "Epoch 36/50\n",
      "80000/80000 [==============================] - 23s 287us/step - loss: 0.2817 - acc: 0.8832 - val_loss: 0.3398 - val_acc: 0.8602\n",
      "Epoch 37/50\n",
      "80000/80000 [==============================] - 23s 287us/step - loss: 0.2731 - acc: 0.8881 - val_loss: 0.3467 - val_acc: 0.8615\n",
      "Epoch 38/50\n",
      "80000/80000 [==============================] - 23s 289us/step - loss: 0.2763 - acc: 0.8855 - val_loss: 0.3513 - val_acc: 0.8551\n",
      "Epoch 39/50\n",
      "80000/80000 [==============================] - 23s 288us/step - loss: 0.2721 - acc: 0.8884 - val_loss: 0.3479 - val_acc: 0.8563\n",
      "Epoch 40/50\n",
      "80000/80000 [==============================] - 23s 287us/step - loss: 0.2734 - acc: 0.8880 - val_loss: 0.3538 - val_acc: 0.8517\n",
      "Epoch 41/50\n",
      "80000/80000 [==============================] - 23s 288us/step - loss: 0.2734 - acc: 0.8872 - val_loss: 0.3436 - val_acc: 0.8563\n",
      "Epoch 42/50\n",
      "80000/80000 [==============================] - 23s 289us/step - loss: 0.2685 - acc: 0.8901 - val_loss: 0.3312 - val_acc: 0.8641\n",
      "Epoch 43/50\n",
      "80000/80000 [==============================] - 23s 288us/step - loss: 0.2671 - acc: 0.8912 - val_loss: 0.3290 - val_acc: 0.8623\n",
      "Epoch 44/50\n",
      "80000/80000 [==============================] - 23s 290us/step - loss: 0.2613 - acc: 0.8929 - val_loss: 0.3355 - val_acc: 0.8657\n",
      "Epoch 45/50\n",
      "80000/80000 [==============================] - 23s 289us/step - loss: 0.2586 - acc: 0.8949 - val_loss: 0.3523 - val_acc: 0.8568\n",
      "Epoch 46/50\n",
      "80000/80000 [==============================] - 23s 287us/step - loss: 0.2537 - acc: 0.8969 - val_loss: 0.3483 - val_acc: 0.8648\n",
      "Epoch 47/50\n",
      "80000/80000 [==============================] - 23s 287us/step - loss: 0.2510 - acc: 0.8983 - val_loss: 0.3578 - val_acc: 0.8629\n",
      "Epoch 48/50\n",
      "80000/80000 [==============================] - 23s 287us/step - loss: 0.2525 - acc: 0.8972 - val_loss: 0.3436 - val_acc: 0.8602\n",
      "Epoch 49/50\n",
      "80000/80000 [==============================] - 23s 288us/step - loss: 0.2503 - acc: 0.8976 - val_loss: 0.3428 - val_acc: 0.8671\n",
      "Epoch 50/50\n",
      "80000/80000 [==============================] - 23s 287us/step - loss: 0.2438 - acc: 0.9006 - val_loss: 0.3392 - val_acc: 0.8670\n"
     ]
    }
   ],
   "source": [
    "#train the models \n",
    "cnn_deep_his = cnn_deep.fit(X_train_sub, y_train_sub,batch_size=128, epochs=50, verbose=1, validation_data=[X_test_sub, y_test_sub])"
   ]
  },
  {
   "cell_type": "code",
   "execution_count": 12,
   "metadata": {
    "colab": {
     "base_uri": "https://localhost:8080/",
     "height": 68
    },
    "colab_type": "code",
    "id": "Iw6DCwCdXIEo",
    "outputId": "2eeab42c-a025-4f29-a781-568e58f37d37"
   },
   "outputs": [
    {
     "name": "stdout",
     "output_type": "stream",
     "text": [
      "20000/20000 [==============================] - 2s 124us/step\n",
      "cnn_deep Test loss: 0.339\n",
      "cnn_deep Test Accuracy: 0.867\n"
     ]
    }
   ],
   "source": [
    "#evaluate models\n",
    "scores = cnn_deep.evaluate(X_test_sub, y_test_sub)\n",
    "print(\"cnn_deep Test loss: {:.3f}\".format(scores[0]))\n",
    "print(\"cnn_deep Test Accuracy: {:.3f}\".format(scores[1]))"
   ]
  },
  {
   "cell_type": "code",
   "execution_count": 13,
   "metadata": {
    "colab": {
     "base_uri": "https://localhost:8080/",
     "height": 295
    },
    "colab_type": "code",
    "id": "Lpuf10aWN0jX",
    "outputId": "3b1d098f-5979-423c-fc3a-79f1b955c21c"
   },
   "outputs": [
    {
     "data": {
      "image/png": "[encoded data removed]",
      "text/plain": [
       "<Figure size 432x288 with 1 Axes>"
      ]
     },
     "metadata": {
      "tags": []
     },
     "output_type": "display_data"
    }
   ],
   "source": [
    "#show training curves \n",
    "import matplotlib.pyplot as plt \n",
    "plt.plot(cnn_deep_his.history['loss'])\n",
    "plt.plot(cnn_deep_his.history['val_loss'])\n",
    "plt.title('cnn_deep loss')\n",
    "plt.ylabel('loss')\n",
    "plt.xlabel('epoch')\n",
    "plt.legend(['train', 'test'], loc='upper left')\n",
    "plt.show()"
   ]
  },
  {
   "cell_type": "code",
   "execution_count": 14,
   "metadata": {
    "colab": {
     "base_uri": "https://localhost:8080/",
     "height": 295
    },
    "colab_type": "code",
    "id": "iPSCprmRHWVi",
    "outputId": "d2947234-e854-400f-87a5-09f945fef69a"
   },
   "outputs": [
    {
     "data": {
      "image/png": "[encoded data removed]",
      "text/plain": [
       "<Figure size 432x288 with 1 Axes>"
      ]
     },
     "metadata": {
      "tags": []
     },
     "output_type": "display_data"
    }
   ],
   "source": [
    "#show training curves \n",
    "import matplotlib.pyplot as plt \n",
    "plt.plot(cnn_deep_his.history['acc'])\n",
    "plt.plot(cnn_deep_his.history['val_acc'])\n",
    "plt.title('cnn_deep acc')\n",
    "plt.ylabel('acc')\n",
    "plt.xlabel('epoch')\n",
    "plt.legend(['train', 'test'], loc='upper left')\n",
    "plt.show()"
   ]
  },
  {
   "cell_type": "markdown",
   "metadata": {
    "colab_type": "text",
    "id": "Fjfm91yXTZyb"
   },
   "source": [
    "Problem with the deep networks is when deeper networks starts converging, a degradation problem occurs. As the depth of network increasing, accuracy gets saturated and then drops rapidly. Then we train a ResNet. The benefit of a ResNet is reducing the effect of vanishing gradient problem."
   ]
  },
  {
   "cell_type": "code",
   "execution_count": 0,
   "metadata": {
    "colab": {},
    "colab_type": "code",
    "id": "zJ3O5D1YU2hz"
   },
   "outputs": [],
   "source": [
    "#this is a ResNet model with skip\n",
    "import keras\n",
    "\n",
    "num_classes = 2\n",
    "inputs = Input(shape=(50, 50, 3))\n",
    "\n",
    "conv1_1 = Conv2D(32, kernel_size=(3, 3), activation='relu', padding='same')(inputs)\n",
    "conv1_2 = Conv2D(32, kernel_size=(3, 3), activation='relu', padding='same')(conv1_1)\n",
    "conv1_3 = Conv2D(32, kernel_size=(3, 3), activation='relu', padding='same')(conv1_2)\n",
    "maxpool1 = MaxPooling2D(pool_size=(2, 2))(conv1_3)\n",
    "conv2_1 = Conv2D(32, (3, 3), activation='relu', padding='same')(maxpool1)\n",
    "conv2_2 = Conv2D(32, (3, 3), activation='relu', padding='same')(conv2_1)\n",
    "skip1 = keras.layers.add([maxpool1, conv2_2] )\n",
    "conv2_3 = Conv2D(32, (3, 3), activation='relu', padding='same')(skip1)\n",
    "## equivalent to added = keras.layers.add([x1, x2])\n",
    "maxpool2 = MaxPooling2D(pool_size=(2, 2))(conv2_3)\n",
    "conv3_1 = Conv2D(32, (3, 3), activation='relu', padding='same')(maxpool2)\n",
    "conv3_2 = Conv2D(32, (3, 3), activation='relu', padding='same')(conv3_1)\n",
    "conv3_3 = Conv2D(32, (3, 3), activation='relu', padding='same')(conv3_2)\n",
    "skip2 =  keras.layers.add([conv3_1, conv3_3])\n",
    "maxpool3 = MaxPooling2D(pool_size=(2, 2))(skip2)\n",
    "conv4_1 = Conv2D(32, kernel_size=(3, 3), activation='relu', padding='same')(maxpool3)\n",
    "conv4_2 = Conv2D(32, kernel_size=(3, 3), activation='relu', padding='same')(conv4_1)\n",
    "conv4_3 = Conv2D(32, kernel_size=(3, 3), activation='relu', padding='same')(conv4_2)\n",
    "maxpool4 = MaxPooling2D(pool_size=(2, 2))(conv4_3)\n",
    "flat = Flatten()(maxpool4)\n",
    "dense = Dense(64, activation='relu')(flat)\n",
    "predictions = Dense(num_classes, activation='softmax')(dense)\n",
    "\n",
    "cnn_deep_RES_skip = Model(inputs=inputs, outputs=predictions)\n",
    "\n",
    "cnn_deep_RES_skip.compile(optimizer='adam', loss='categorical_crossentropy',metrics=['accuracy'])"
   ]
  },
  {
   "cell_type": "code",
   "execution_count": 31,
   "metadata": {
    "colab": {
     "base_uri": "https://localhost:8080/",
     "height": 918
    },
    "colab_type": "code",
    "id": "KyTC-mI1DL9F",
    "outputId": "6440f3f6-e248-4a69-ab87-c9b1b1afc575"
   },
   "outputs": [
    {
     "name": "stdout",
     "output_type": "stream",
     "text": [
      "__________________________________________________________________________________________________\n",
      "Layer (type)                    Output Shape         Param #     Connected to                     \n",
      "==================================================================================================\n",
      "input_3 (InputLayer)            (None, 50, 50, 3)    0                                            \n",
      "__________________________________________________________________________________________________\n",
      "conv2d_25 (Conv2D)              (None, 50, 50, 32)   896         input_3[0][0]                    \n",
      "__________________________________________________________________________________________________\n",
      "conv2d_26 (Conv2D)              (None, 50, 50, 32)   9248        conv2d_25[0][0]                  \n",
      "__________________________________________________________________________________________________\n",
      "conv2d_27 (Conv2D)              (None, 50, 50, 32)   9248        conv2d_26[0][0]                  \n",
      "__________________________________________________________________________________________________\n",
      "max_pooling2d_9 (MaxPooling2D)  (None, 25, 25, 32)   0           conv2d_27[0][0]                  \n",
      "__________________________________________________________________________________________________\n",
      "conv2d_28 (Conv2D)              (None, 25, 25, 32)   9248        max_pooling2d_9[0][0]            \n",
      "__________________________________________________________________________________________________\n",
      "conv2d_29 (Conv2D)              (None, 25, 25, 32)   9248        conv2d_28[0][0]                  \n",
      "__________________________________________________________________________________________________\n",
      "add_3 (Add)                     (None, 25, 25, 32)   0           max_pooling2d_9[0][0]            \n",
      "                                                                 conv2d_29[0][0]                  \n",
      "__________________________________________________________________________________________________\n",
      "conv2d_30 (Conv2D)              (None, 25, 25, 32)   9248        add_3[0][0]                      \n",
      "__________________________________________________________________________________________________\n",
      "max_pooling2d_10 (MaxPooling2D) (None, 12, 12, 32)   0           conv2d_30[0][0]                  \n",
      "__________________________________________________________________________________________________\n",
      "conv2d_31 (Conv2D)              (None, 12, 12, 32)   9248        max_pooling2d_10[0][0]           \n",
      "__________________________________________________________________________________________________\n",
      "conv2d_32 (Conv2D)              (None, 12, 12, 32)   9248        conv2d_31[0][0]                  \n",
      "__________________________________________________________________________________________________\n",
      "conv2d_33 (Conv2D)              (None, 12, 12, 32)   9248        conv2d_32[0][0]                  \n",
      "__________________________________________________________________________________________________\n",
      "add_4 (Add)                     (None, 12, 12, 32)   0           conv2d_31[0][0]                  \n",
      "                                                                 conv2d_33[0][0]                  \n",
      "__________________________________________________________________________________________________\n",
      "max_pooling2d_11 (MaxPooling2D) (None, 6, 6, 32)     0           add_4[0][0]                      \n",
      "__________________________________________________________________________________________________\n",
      "conv2d_34 (Conv2D)              (None, 6, 6, 32)     9248        max_pooling2d_11[0][0]           \n",
      "__________________________________________________________________________________________________\n",
      "conv2d_35 (Conv2D)              (None, 6, 6, 32)     9248        conv2d_34[0][0]                  \n",
      "__________________________________________________________________________________________________\n",
      "conv2d_36 (Conv2D)              (None, 6, 6, 32)     9248        conv2d_35[0][0]                  \n",
      "__________________________________________________________________________________________________\n",
      "max_pooling2d_12 (MaxPooling2D) (None, 3, 3, 32)     0           conv2d_36[0][0]                  \n",
      "__________________________________________________________________________________________________\n",
      "flatten_3 (Flatten)             (None, 288)          0           max_pooling2d_12[0][0]           \n",
      "__________________________________________________________________________________________________\n",
      "dense_5 (Dense)                 (None, 64)           18496       flatten_3[0][0]                  \n",
      "__________________________________________________________________________________________________\n",
      "dense_6 (Dense)                 (None, 2)            130         dense_5[0][0]                    \n",
      "==================================================================================================\n",
      "Total params: 121,250\n",
      "Trainable params: 121,250\n",
      "Non-trainable params: 0\n",
      "__________________________________________________________________________________________________\n"
     ]
    }
   ],
   "source": [
    "cnn_deep_RES_skip.summary()"
   ]
  },
  {
   "cell_type": "code",
   "execution_count": 32,
   "metadata": {
    "colab": {
     "base_uri": "https://localhost:8080/",
     "height": 1734
    },
    "colab_type": "code",
    "id": "MPkXzfPNW_9k",
    "outputId": "fd59793b-6154-4a8a-cd02-50777b56009b"
   },
   "outputs": [
    {
     "name": "stdout",
     "output_type": "stream",
     "text": [
      "Train on 80000 samples, validate on 20000 samples\n",
      "Epoch 1/50\n",
      "80000/80000 [==============================] - 25s 311us/step - loss: 0.5212 - acc: 0.7453 - val_loss: 0.4462 - val_acc: 0.8017\n",
      "Epoch 2/50\n",
      "80000/80000 [==============================] - 24s 303us/step - loss: 0.4247 - acc: 0.8129 - val_loss: 0.4245 - val_acc: 0.8165\n",
      "Epoch 3/50\n",
      "80000/80000 [==============================] - 24s 302us/step - loss: 0.3973 - acc: 0.8283 - val_loss: 0.4183 - val_acc: 0.8170\n",
      "Epoch 4/50\n",
      "80000/80000 [==============================] - 24s 297us/step - loss: 0.3806 - acc: 0.8368 - val_loss: 0.4333 - val_acc: 0.8052\n",
      "Epoch 5/50\n",
      "80000/80000 [==============================] - 24s 296us/step - loss: 0.3701 - acc: 0.8434 - val_loss: 0.3822 - val_acc: 0.8317\n",
      "Epoch 6/50\n",
      "80000/80000 [==============================] - 24s 298us/step - loss: 0.3651 - acc: 0.8455 - val_loss: 0.3684 - val_acc: 0.8444\n",
      "Epoch 7/50\n",
      "80000/80000 [==============================] - 24s 300us/step - loss: 0.3545 - acc: 0.8499 - val_loss: 0.3662 - val_acc: 0.8446\n",
      "Epoch 8/50\n",
      "80000/80000 [==============================] - 24s 296us/step - loss: 0.3481 - acc: 0.8536 - val_loss: 0.3579 - val_acc: 0.8465\n",
      "Epoch 9/50\n",
      "80000/80000 [==============================] - 24s 296us/step - loss: 0.3417 - acc: 0.8569 - val_loss: 0.3760 - val_acc: 0.8357\n",
      "Epoch 10/50\n",
      "80000/80000 [==============================] - 24s 296us/step - loss: 0.3386 - acc: 0.8583 - val_loss: 0.3654 - val_acc: 0.8448\n",
      "Epoch 11/50\n",
      "80000/80000 [==============================] - 24s 298us/step - loss: 0.3321 - acc: 0.8615 - val_loss: 0.3480 - val_acc: 0.8512\n",
      "Epoch 12/50\n",
      "80000/80000 [==============================] - 24s 296us/step - loss: 0.3251 - acc: 0.8644 - val_loss: 0.3646 - val_acc: 0.8447\n",
      "Epoch 13/50\n",
      "80000/80000 [==============================] - 24s 298us/step - loss: 0.3201 - acc: 0.8668 - val_loss: 0.3571 - val_acc: 0.8477\n",
      "Epoch 14/50\n",
      "80000/80000 [==============================] - 24s 301us/step - loss: 0.3148 - acc: 0.8702 - val_loss: 0.3593 - val_acc: 0.8507\n",
      "Epoch 15/50\n",
      "80000/80000 [==============================] - 24s 296us/step - loss: 0.3105 - acc: 0.8707 - val_loss: 0.3450 - val_acc: 0.8554\n",
      "Epoch 16/50\n",
      "80000/80000 [==============================] - 24s 296us/step - loss: 0.3017 - acc: 0.8748 - val_loss: 0.3489 - val_acc: 0.8509\n",
      "Epoch 17/50\n",
      "80000/80000 [==============================] - 24s 297us/step - loss: 0.2975 - acc: 0.8786 - val_loss: 0.3656 - val_acc: 0.8422\n",
      "Epoch 18/50\n",
      "80000/80000 [==============================] - 24s 297us/step - loss: 0.2915 - acc: 0.8810 - val_loss: 0.3499 - val_acc: 0.8538\n",
      "Epoch 19/50\n",
      "80000/80000 [==============================] - 24s 295us/step - loss: 0.2864 - acc: 0.8831 - val_loss: 0.3473 - val_acc: 0.8581\n",
      "Epoch 20/50\n",
      "80000/80000 [==============================] - 24s 295us/step - loss: 0.2823 - acc: 0.8850 - val_loss: 0.3525 - val_acc: 0.8532\n",
      "Epoch 21/50\n",
      "80000/80000 [==============================] - 24s 298us/step - loss: 0.2745 - acc: 0.8881 - val_loss: 0.3504 - val_acc: 0.8529\n",
      "Epoch 22/50\n",
      "80000/80000 [==============================] - 24s 294us/step - loss: 0.2716 - acc: 0.8891 - val_loss: 0.3625 - val_acc: 0.8498\n",
      "Epoch 23/50\n",
      "80000/80000 [==============================] - 24s 295us/step - loss: 0.2625 - acc: 0.8923 - val_loss: 0.3855 - val_acc: 0.8407\n",
      "Epoch 24/50\n",
      "80000/80000 [==============================] - 24s 297us/step - loss: 0.2579 - acc: 0.8955 - val_loss: 0.3673 - val_acc: 0.8504\n",
      "Epoch 25/50\n",
      "80000/80000 [==============================] - 23s 292us/step - loss: 0.2528 - acc: 0.8977 - val_loss: 0.3664 - val_acc: 0.8586\n",
      "Epoch 26/50\n",
      "80000/80000 [==============================] - 23s 290us/step - loss: 0.2446 - acc: 0.9011 - val_loss: 0.3520 - val_acc: 0.8630\n",
      "Epoch 27/50\n",
      "80000/80000 [==============================] - 24s 294us/step - loss: 0.2360 - acc: 0.9050 - val_loss: 0.3727 - val_acc: 0.8538\n",
      "Epoch 28/50\n",
      "80000/80000 [==============================] - 23s 292us/step - loss: 0.2358 - acc: 0.9054 - val_loss: 0.3859 - val_acc: 0.8539\n",
      "Epoch 29/50\n",
      "80000/80000 [==============================] - 23s 290us/step - loss: 0.2270 - acc: 0.9089 - val_loss: 0.3764 - val_acc: 0.8536\n",
      "Epoch 30/50\n",
      "80000/80000 [==============================] - 23s 290us/step - loss: 0.2194 - acc: 0.9126 - val_loss: 0.3924 - val_acc: 0.8507\n",
      "Epoch 31/50\n",
      "80000/80000 [==============================] - 23s 292us/step - loss: 0.2179 - acc: 0.9116 - val_loss: 0.4028 - val_acc: 0.8506\n",
      "Epoch 32/50\n",
      "80000/80000 [==============================] - 23s 289us/step - loss: 0.2100 - acc: 0.9170 - val_loss: 0.3940 - val_acc: 0.8598\n",
      "Epoch 33/50\n",
      "80000/80000 [==============================] - 23s 291us/step - loss: 0.2075 - acc: 0.9174 - val_loss: 0.4212 - val_acc: 0.8525\n",
      "Epoch 34/50\n",
      "80000/80000 [==============================] - 24s 296us/step - loss: 0.2037 - acc: 0.9197 - val_loss: 0.3920 - val_acc: 0.8538\n",
      "Epoch 35/50\n",
      "80000/80000 [==============================] - 24s 297us/step - loss: 0.1972 - acc: 0.9210 - val_loss: 0.3889 - val_acc: 0.8555\n",
      "Epoch 36/50\n",
      "80000/80000 [==============================] - 24s 295us/step - loss: 0.1909 - acc: 0.9249 - val_loss: 0.4222 - val_acc: 0.8493\n",
      "Epoch 37/50\n",
      "80000/80000 [==============================] - 24s 296us/step - loss: 0.1866 - acc: 0.9266 - val_loss: 0.3962 - val_acc: 0.8544\n",
      "Epoch 38/50\n",
      "80000/80000 [==============================] - 24s 297us/step - loss: 0.1812 - acc: 0.9295 - val_loss: 0.4539 - val_acc: 0.8586\n",
      "Epoch 39/50\n",
      "80000/80000 [==============================] - 24s 295us/step - loss: 0.1785 - acc: 0.9305 - val_loss: 0.4234 - val_acc: 0.8560\n",
      "Epoch 40/50\n",
      "80000/80000 [==============================] - 24s 299us/step - loss: 0.1738 - acc: 0.9315 - val_loss: 0.4439 - val_acc: 0.8606\n",
      "Epoch 41/50\n",
      "80000/80000 [==============================] - 24s 297us/step - loss: 0.1755 - acc: 0.9307 - val_loss: 0.4338 - val_acc: 0.8576\n",
      "Epoch 42/50\n",
      "80000/80000 [==============================] - 24s 296us/step - loss: 0.1733 - acc: 0.9318 - val_loss: 0.4304 - val_acc: 0.8611\n",
      "Epoch 43/50\n",
      "80000/80000 [==============================] - 24s 296us/step - loss: 0.1646 - acc: 0.9357 - val_loss: 0.4522 - val_acc: 0.8545\n",
      "Epoch 44/50\n",
      "80000/80000 [==============================] - 24s 295us/step - loss: 0.1647 - acc: 0.9354 - val_loss: 0.4223 - val_acc: 0.8587\n",
      "Epoch 45/50\n",
      "80000/80000 [==============================] - 24s 297us/step - loss: 0.1658 - acc: 0.9355 - val_loss: 0.4230 - val_acc: 0.8525\n",
      "Epoch 46/50\n",
      "80000/80000 [==============================] - 24s 296us/step - loss: 0.1591 - acc: 0.9372 - val_loss: 0.4822 - val_acc: 0.8583\n",
      "Epoch 47/50\n",
      "80000/80000 [==============================] - 24s 296us/step - loss: 0.1551 - acc: 0.9397 - val_loss: 0.4552 - val_acc: 0.8561\n",
      "Epoch 48/50\n",
      "80000/80000 [==============================] - 24s 298us/step - loss: 0.1507 - acc: 0.9407 - val_loss: 0.5040 - val_acc: 0.8524\n",
      "Epoch 49/50\n",
      "80000/80000 [==============================] - 24s 295us/step - loss: 0.1441 - acc: 0.9445 - val_loss: 0.4549 - val_acc: 0.8617\n",
      "Epoch 50/50\n",
      "80000/80000 [==============================] - 24s 295us/step - loss: 0.1438 - acc: 0.9438 - val_loss: 0.4878 - val_acc: 0.8473\n"
     ]
    }
   ],
   "source": [
    "cnn_deep_RES_skip_his = cnn_deep_RES_skip.fit(X_train_sub, y_train_sub, batch_size=128, epochs=50, verbose=1, validation_data=[X_test_sub, y_test_sub])"
   ]
  },
  {
   "cell_type": "code",
   "execution_count": 33,
   "metadata": {
    "colab": {
     "base_uri": "https://localhost:8080/",
     "height": 68
    },
    "colab_type": "code",
    "id": "XfoGYbySXWag",
    "outputId": "95303158-0e52-45ec-9d3b-4715ed47f7ff"
   },
   "outputs": [
    {
     "name": "stdout",
     "output_type": "stream",
     "text": [
      "20000/20000 [==============================] - 3s 138us/step\n",
      "cnn_deep_RES_skip Test loss: 0.488\n",
      "cnn_deep_RES_skip Test Accuracy: 0.847\n"
     ]
    }
   ],
   "source": [
    "scores = cnn_deep_RES_skip.evaluate(X_test_sub, y_test_sub)\n",
    "print(\"cnn_deep_RES_skip Test loss: {:.3f}\".format(scores[0]))\n",
    "print(\"cnn_deep_RES_skip Test Accuracy: {:.3f}\".format(scores[1]))"
   ]
  },
  {
   "cell_type": "code",
   "execution_count": 34,
   "metadata": {
    "colab": {
     "base_uri": "https://localhost:8080/",
     "height": 295
    },
    "colab_type": "code",
    "id": "PU_hmPEGX1VR",
    "outputId": "a9184f05-505c-4cf8-8896-d81a6201d5b0"
   },
   "outputs": [
    {
     "data": {
      "image/png": "[encoded data removed]",
      "text/plain": [
       "<Figure size 432x288 with 1 Axes>"
      ]
     },
     "metadata": {
      "tags": []
     },
     "output_type": "display_data"
    }
   ],
   "source": [
    "#show training curves \n",
    "import matplotlib.pyplot as plt \n",
    "plt.plot(cnn_deep_RES_skip_his.history['loss'])\n",
    "plt.plot(cnn_deep_RES_skip_his.history['val_loss'])\n",
    "plt.title('cnn_deep_RES_skip loss')\n",
    "plt.ylabel('loss')\n",
    "plt.xlabel('epoch')\n",
    "plt.legend(['train', 'test'], loc='upper left')\n",
    "plt.show()"
   ]
  },
  {
   "cell_type": "code",
   "execution_count": 35,
   "metadata": {
    "colab": {
     "base_uri": "https://localhost:8080/",
     "height": 295
    },
    "colab_type": "code",
    "id": "AtagOciCYP5T",
    "outputId": "6d334632-d2bc-4669-8528-53ad29401af6"
   },
   "outputs": [
    {
     "data": {
      "image/png": "[encoded data removed]",
      "text/plain": [
       "<Figure size 432x288 with 1 Axes>"
      ]
     },
     "metadata": {
      "tags": []
     },
     "output_type": "display_data"
    }
   ],
   "source": [
    "#show training curves \n",
    "import matplotlib.pyplot as plt \n",
    "plt.plot(cnn_deep_RES_skip_his.history['acc'])\n",
    "plt.plot(cnn_deep_RES_skip_his.history['val_acc'])\n",
    "plt.title('cnn_deep_RES_skip_his acc')\n",
    "plt.ylabel('acc')\n",
    "plt.xlabel('epoch')\n",
    "plt.legend(['train', 'test'], loc='upper left')\n",
    "plt.show()"
   ]
  }
 ],
 "metadata": {
  "accelerator": "GPU",
  "colab": {
   "collapsed_sections": [],
   "name": "Copy of hw5_task3.ipynb",
   "provenance": [],
   "version": "0.3.2"
  },
  "kernelspec": {
   "display_name": "Python 3",
   "language": "python",
   "name": "python3"
  },
  "language_info": {
   "codemirror_mode": {
    "name": "ipython",
    "version": 3
   },
   "file_extension": ".py",
   "mimetype": "text/x-python",
   "name": "python",
   "nbconvert_exporter": "python",
   "pygments_lexer": "ipython3",
   "version": "3.6.8"
  }
 },
 "nbformat": 4,
 "nbformat_minor": 1
}
