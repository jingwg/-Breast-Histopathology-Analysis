{
 "cells": [
  {
   "cell_type": "markdown",
   "metadata": {
    "colab_type": "text",
    "id": "kR44R0NIoa6i"
   },
   "source": [
    "## Fully_Connected_Neural_Network"
   ]
  },
  {
   "cell_type": "code",
   "execution_count": 1,
   "metadata": {
    "colab": {
     "base_uri": "https://localhost:8080/",
     "height": 34
    },
    "colab_type": "code",
    "id": "cKhXp-UeojeM",
    "outputId": "8eeaeaae-57e1-4e04-ea05-16dc81c6e163"
   },
   "outputs": [
    {
     "name": "stderr",
     "output_type": "stream",
     "text": [
      "Using TensorFlow backend.\n"
     ]
    }
   ],
   "source": [
    "from keras.models import Sequential\n",
    "from keras.layers import Dense, Activation\n",
    "import numpy as np\n",
    "import matplotlib.pyplot as plt\n",
    "import pandas as pd\n",
    "from sklearn.model_selection import train_test_split, cross_val_score\n",
    "from sklearn.pipeline import make_pipeline\n",
    "from sklearn.preprocessing import scale, StandardScaler"
   ]
  },
  {
   "cell_type": "code",
   "execution_count": 2,
   "metadata": {
    "colab": {
     "base_uri": "https://localhost:8080/",
     "height": 153
    },
    "colab_type": "code",
    "id": "EEhp-D9Yo1FS",
    "outputId": "cfeb5170-2cf1-4ce3-e797-3e09d7c6de27"
   },
   "outputs": [
    {
     "name": "stdout",
     "output_type": "stream",
     "text": [
      "Downloading data from http://fashion-mnist.s3-website.eu-central-1.amazonaws.com/train-labels-idx1-ubyte.gz\n",
      "32768/29515 [=================================] - 0s 3us/step\n",
      "Downloading data from http://fashion-mnist.s3-website.eu-central-1.amazonaws.com/train-images-idx3-ubyte.gz\n",
      "26427392/26421880 [==============================] - 2s 0us/step\n",
      "Downloading data from http://fashion-mnist.s3-website.eu-central-1.amazonaws.com/t10k-labels-idx1-ubyte.gz\n",
      "8192/5148 [===============================================] - 0s 0us/step\n",
      "Downloading data from http://fashion-mnist.s3-website.eu-central-1.amazonaws.com/t10k-images-idx3-ubyte.gz\n",
      "4423680/4422102 [==============================] - 1s 0us/step\n"
     ]
    }
   ],
   "source": [
    "from keras.datasets import mnist,fashion_mnist\n",
    "import keras\n",
    "(X_train, y_train), (X_test, y_test) = fashion_mnist.load_data()\n",
    "# X_train 60000 samples, each is 28*28 "
   ]
  },
  {
   "cell_type": "code",
   "execution_count": 0,
   "metadata": {
    "colab": {},
    "colab_type": "code",
    "id": "9choL1FipZKb"
   },
   "outputs": [],
   "source": [
    "X_train = X_train.reshape(60000, 784)\n",
    "X_test = X_test.reshape(10000, 784)\n",
    "X_train = X_train.astype('float32')\n",
    "X_test = X_test.astype('float32')\n",
    "X_train /= 255\n",
    "X_test /= 255\n",
    "\n",
    "num_classes = 10\n",
    "# convert class vectors to binary class matrices\n",
    "y_train = keras.utils.to_categorical(y_train, num_classes)\n",
    "y_test = keras.utils.to_categorical(y_test, num_classes)"
   ]
  },
  {
   "cell_type": "markdown",
   "metadata": {
    "colab_type": "text",
    "id": "b28LlXozGf7P"
   },
   "source": [
    "### Baseline Model"
   ]
  },
  {
   "cell_type": "code",
   "execution_count": 0,
   "metadata": {
    "colab": {},
    "colab_type": "code",
    "id": "VRijbDz-oRyE"
   },
   "outputs": [],
   "source": [
    "model = Sequential([\n",
    "    Dense(512, input_shape=(784,), activation='relu'),\n",
    "    Dense(512, activation = 'relu'),\n",
    "    Dense(10, activation='softmax'),\n",
    "])\n",
    "model.compile(\"adam\", \"categorical_crossentropy\",\n",
    "              metrics=['accuracy'])"
   ]
  },
  {
   "cell_type": "code",
   "execution_count": 0,
   "metadata": {
    "colab": {
     "base_uri": "https://localhost:8080/",
     "height": 1564
    },
    "colab_type": "code",
    "id": "BaqdoiWUruPE",
    "outputId": "71d79767-4760-41a1-db7f-aa9a1202acc9"
   },
   "outputs": [
    {
     "name": "stdout",
     "output_type": "stream",
     "text": [
      "Train on 50000 samples, validate on 10000 samples\n",
      "Epoch 1/45\n",
      "50000/50000 [==============================] - 8s 162us/step - loss: 0.4941 - acc: 0.8245 - val_loss: 0.4403 - val_acc: 0.8347\n",
      "Epoch 2/45\n",
      "50000/50000 [==============================] - 7s 149us/step - loss: 0.3591 - acc: 0.8685 - val_loss: 0.3628 - val_acc: 0.8688\n",
      "Epoch 3/45\n",
      "50000/50000 [==============================] - 7s 150us/step - loss: 0.3206 - acc: 0.8837 - val_loss: 0.3317 - val_acc: 0.8792\n",
      "Epoch 4/45\n",
      "50000/50000 [==============================] - 7s 146us/step - loss: 0.2939 - acc: 0.8921 - val_loss: 0.3413 - val_acc: 0.8754\n",
      "Epoch 5/45\n",
      "50000/50000 [==============================] - 7s 143us/step - loss: 0.2748 - acc: 0.8979 - val_loss: 0.3349 - val_acc: 0.8761\n",
      "Epoch 6/45\n",
      "50000/50000 [==============================] - 7s 142us/step - loss: 0.2617 - acc: 0.9017 - val_loss: 0.3303 - val_acc: 0.8777\n",
      "Epoch 7/45\n",
      "50000/50000 [==============================] - 7s 139us/step - loss: 0.2462 - acc: 0.9064 - val_loss: 0.3777 - val_acc: 0.8639\n",
      "Epoch 8/45\n",
      "50000/50000 [==============================] - 7s 137us/step - loss: 0.2357 - acc: 0.9103 - val_loss: 0.3136 - val_acc: 0.8903\n",
      "Epoch 9/45\n",
      "50000/50000 [==============================] - 7s 142us/step - loss: 0.2243 - acc: 0.9145 - val_loss: 0.3149 - val_acc: 0.8887\n",
      "Epoch 10/45\n",
      "50000/50000 [==============================] - 7s 135us/step - loss: 0.2143 - acc: 0.9179 - val_loss: 0.3350 - val_acc: 0.8854\n",
      "Epoch 11/45\n",
      "50000/50000 [==============================] - 7s 141us/step - loss: 0.2070 - acc: 0.9211 - val_loss: 0.3227 - val_acc: 0.8893\n",
      "Epoch 12/45\n",
      "50000/50000 [==============================] - 7s 136us/step - loss: 0.1921 - acc: 0.9264 - val_loss: 0.3129 - val_acc: 0.8898\n",
      "Epoch 13/45\n",
      "50000/50000 [==============================] - 7s 138us/step - loss: 0.1847 - acc: 0.9296 - val_loss: 0.3186 - val_acc: 0.8934\n",
      "Epoch 14/45\n",
      "50000/50000 [==============================] - 7s 139us/step - loss: 0.1772 - acc: 0.9314 - val_loss: 0.3415 - val_acc: 0.8906\n",
      "Epoch 15/45\n",
      "50000/50000 [==============================] - 7s 142us/step - loss: 0.1724 - acc: 0.9346 - val_loss: 0.3611 - val_acc: 0.8872\n",
      "Epoch 16/45\n",
      "50000/50000 [==============================] - 7s 147us/step - loss: 0.1638 - acc: 0.9377 - val_loss: 0.3336 - val_acc: 0.8911\n",
      "Epoch 17/45\n",
      "50000/50000 [==============================] - 7s 145us/step - loss: 0.1569 - acc: 0.9403 - val_loss: 0.3153 - val_acc: 0.8938\n",
      "Epoch 18/45\n",
      "50000/50000 [==============================] - 7s 139us/step - loss: 0.1523 - acc: 0.9418 - val_loss: 0.4008 - val_acc: 0.8768\n",
      "Epoch 19/45\n",
      "50000/50000 [==============================] - 7s 140us/step - loss: 0.1441 - acc: 0.9456 - val_loss: 0.3320 - val_acc: 0.8950\n",
      "Epoch 20/45\n",
      "50000/50000 [==============================] - 7s 141us/step - loss: 0.1413 - acc: 0.9457 - val_loss: 0.3577 - val_acc: 0.8920\n",
      "Epoch 21/45\n",
      "50000/50000 [==============================] - 7s 145us/step - loss: 0.1379 - acc: 0.9471 - val_loss: 0.3621 - val_acc: 0.8904\n",
      "Epoch 22/45\n",
      "50000/50000 [==============================] - 7s 144us/step - loss: 0.1297 - acc: 0.9508 - val_loss: 0.3626 - val_acc: 0.8948\n",
      "Epoch 23/45\n",
      "50000/50000 [==============================] - 7s 144us/step - loss: 0.1193 - acc: 0.9546 - val_loss: 0.3781 - val_acc: 0.8939\n",
      "Epoch 24/45\n",
      "50000/50000 [==============================] - 7s 141us/step - loss: 0.1212 - acc: 0.9536 - val_loss: 0.3843 - val_acc: 0.8920\n",
      "Epoch 25/45\n",
      "50000/50000 [==============================] - 7s 139us/step - loss: 0.1109 - acc: 0.9559 - val_loss: 0.3687 - val_acc: 0.8986\n",
      "Epoch 26/45\n",
      "50000/50000 [==============================] - 7s 138us/step - loss: 0.1055 - acc: 0.9595 - val_loss: 0.3735 - val_acc: 0.8956\n",
      "Epoch 27/45\n",
      "50000/50000 [==============================] - 7s 135us/step - loss: 0.1080 - acc: 0.9580 - val_loss: 0.4181 - val_acc: 0.8888\n",
      "Epoch 28/45\n",
      "50000/50000 [==============================] - 7s 140us/step - loss: 0.1033 - acc: 0.9604 - val_loss: 0.3696 - val_acc: 0.8976\n",
      "Epoch 29/45\n",
      "50000/50000 [==============================] - 7s 139us/step - loss: 0.0977 - acc: 0.9626 - val_loss: 0.4084 - val_acc: 0.8920\n",
      "Epoch 30/45\n",
      "50000/50000 [==============================] - 7s 140us/step - loss: 0.0925 - acc: 0.9648 - val_loss: 0.4165 - val_acc: 0.8890\n",
      "Epoch 31/45\n",
      "50000/50000 [==============================] - 7s 147us/step - loss: 0.0919 - acc: 0.9654 - val_loss: 0.4309 - val_acc: 0.8976\n",
      "Epoch 32/45\n",
      "50000/50000 [==============================] - 7s 145us/step - loss: 0.0884 - acc: 0.9658 - val_loss: 0.4402 - val_acc: 0.8918\n",
      "Epoch 33/45\n",
      "50000/50000 [==============================] - 7s 140us/step - loss: 0.0852 - acc: 0.9663 - val_loss: 0.4245 - val_acc: 0.8994\n",
      "Epoch 34/45\n",
      "50000/50000 [==============================] - 7s 143us/step - loss: 0.0809 - acc: 0.9687 - val_loss: 0.4433 - val_acc: 0.8952\n",
      "Epoch 35/45\n",
      "50000/50000 [==============================] - 7s 138us/step - loss: 0.0758 - acc: 0.9708 - val_loss: 0.4382 - val_acc: 0.8937\n",
      "Epoch 36/45\n",
      "50000/50000 [==============================] - 7s 137us/step - loss: 0.0789 - acc: 0.9698 - val_loss: 0.4596 - val_acc: 0.8893\n",
      "Epoch 37/45\n",
      "50000/50000 [==============================] - 7s 136us/step - loss: 0.0741 - acc: 0.9713 - val_loss: 0.4625 - val_acc: 0.8927\n",
      "Epoch 38/45\n",
      "50000/50000 [==============================] - 7s 138us/step - loss: 0.0649 - acc: 0.9744 - val_loss: 0.4865 - val_acc: 0.8933\n",
      "Epoch 39/45\n",
      "50000/50000 [==============================] - 7s 140us/step - loss: 0.0665 - acc: 0.9745 - val_loss: 0.4894 - val_acc: 0.8940\n",
      "Epoch 40/45\n",
      "50000/50000 [==============================] - 7s 140us/step - loss: 0.0606 - acc: 0.9771 - val_loss: 0.4878 - val_acc: 0.8936\n",
      "Epoch 41/45\n",
      "50000/50000 [==============================] - 7s 138us/step - loss: 0.0646 - acc: 0.9753 - val_loss: 0.4989 - val_acc: 0.8959\n",
      "Epoch 42/45\n",
      "50000/50000 [==============================] - 7s 140us/step - loss: 0.0587 - acc: 0.9775 - val_loss: 0.4952 - val_acc: 0.8927\n",
      "Epoch 43/45\n",
      "50000/50000 [==============================] - 7s 139us/step - loss: 0.0592 - acc: 0.9777 - val_loss: 0.5080 - val_acc: 0.8933\n",
      "Epoch 44/45\n",
      "50000/50000 [==============================] - 7s 136us/step - loss: 0.0693 - acc: 0.9742 - val_loss: 0.5153 - val_acc: 0.8928\n",
      "Epoch 45/45\n",
      "50000/50000 [==============================] - 7s 138us/step - loss: 0.0531 - acc: 0.9797 - val_loss: 0.5173 - val_acc: 0.8966\n"
     ]
    }
   ],
   "source": [
    "history_callback = model.fit(X_train, y_train, \n",
    "                             batch_size=128, epochs=45, verbose=1,validation_split=1/6)\n"
   ]
  },
  {
   "cell_type": "code",
   "execution_count": 0,
   "metadata": {
    "colab": {
     "base_uri": "https://localhost:8080/",
     "height": 300
    },
    "colab_type": "code",
    "id": "-k9EXtRd_iU7",
    "outputId": "59f4a48d-6964-4ea2-f651-268e18153a07"
   },
   "outputs": [
    {
     "data": {
      "text/plain": [
       "Text(0, 0.5, 'loss')"
      ]
     },
     "execution_count": 102,
     "metadata": {
      "tags": []
     },
     "output_type": "execute_result"
    },
    {
     "data": {
      "image/png": "[encoded data removed]",
      "text/plain": [
       "<Figure size 432x288 with 2 Axes>"
      ]
     },
     "metadata": {
      "tags": []
     },
     "output_type": "display_data"
    }
   ],
   "source": [
    "df = pd.DataFrame(history_callback.history)\n",
    "df[['acc', 'val_acc']].plot()\n",
    "plt.ylabel(\"accuracy\")\n",
    "plt.xlabel(\"epochs\")\n",
    "df[['loss', 'val_loss']].plot(linestyle='--', ax=plt.twinx())\n",
    "plt.ylabel(\"loss\")\n"
   ]
  },
  {
   "cell_type": "code",
   "execution_count": 0,
   "metadata": {
    "colab": {
     "base_uri": "https://localhost:8080/",
     "height": 34
    },
    "colab_type": "code",
    "id": "hmoS6Bd3FeCY",
    "outputId": "441140ef-936b-432f-94a7-eee90a10e5ce"
   },
   "outputs": [
    {
     "data": {
      "text/plain": [
       "[0.5594879250784638, 0.8962]"
      ]
     },
     "execution_count": 103,
     "metadata": {
      "tags": []
     },
     "output_type": "execute_result"
    }
   ],
   "source": [
    "score = model.evaluate(X_test, y_test, verbose=0)\n",
    "score"
   ]
  },
  {
   "cell_type": "markdown",
   "metadata": {
    "colab_type": "text",
    "id": "m82aJfMCGmt_"
   },
   "source": [
    "### model using drop-out (potentially a bigger model),"
   ]
  },
  {
   "cell_type": "code",
   "execution_count": 0,
   "metadata": {
    "colab": {
     "base_uri": "https://localhost:8080/",
     "height": 1564
    },
    "colab_type": "code",
    "id": "83K0BuHIGosx",
    "outputId": "d5b392fd-b482-459d-d888-e77ac4f4ef1f"
   },
   "outputs": [
    {
     "name": "stdout",
     "output_type": "stream",
     "text": [
      "Train on 54000 samples, validate on 6000 samples\n",
      "Epoch 1/45\n",
      "54000/54000 [==============================] - 9s 167us/step - loss: 0.6281 - acc: 0.7750 - val_loss: 0.4260 - val_acc: 0.8465\n",
      "Epoch 2/45\n",
      "54000/54000 [==============================] - 8s 148us/step - loss: 0.4638 - acc: 0.8319 - val_loss: 0.3901 - val_acc: 0.8558\n",
      "Epoch 3/45\n",
      "54000/54000 [==============================] - 8s 147us/step - loss: 0.4281 - acc: 0.8449 - val_loss: 0.3639 - val_acc: 0.8638\n",
      "Epoch 4/45\n",
      "54000/54000 [==============================] - 8s 145us/step - loss: 0.4056 - acc: 0.8515 - val_loss: 0.3510 - val_acc: 0.8703\n",
      "Epoch 5/45\n",
      "54000/54000 [==============================] - 8s 147us/step - loss: 0.3928 - acc: 0.8557 - val_loss: 0.3445 - val_acc: 0.8757\n",
      "Epoch 6/45\n",
      "54000/54000 [==============================] - 8s 143us/step - loss: 0.3786 - acc: 0.8614 - val_loss: 0.3441 - val_acc: 0.8752\n",
      "Epoch 7/45\n",
      "54000/54000 [==============================] - 8s 146us/step - loss: 0.3703 - acc: 0.8648 - val_loss: 0.3413 - val_acc: 0.8757\n",
      "Epoch 8/45\n",
      "54000/54000 [==============================] - 8s 148us/step - loss: 0.3572 - acc: 0.8688 - val_loss: 0.3271 - val_acc: 0.8800\n",
      "Epoch 9/45\n",
      "54000/54000 [==============================] - 8s 148us/step - loss: 0.3556 - acc: 0.8692 - val_loss: 0.3314 - val_acc: 0.8783\n",
      "Epoch 10/45\n",
      "54000/54000 [==============================] - 8s 143us/step - loss: 0.3468 - acc: 0.8730 - val_loss: 0.3316 - val_acc: 0.8758\n",
      "Epoch 11/45\n",
      "54000/54000 [==============================] - 8s 148us/step - loss: 0.3413 - acc: 0.8752 - val_loss: 0.3202 - val_acc: 0.8772\n",
      "Epoch 12/45\n",
      "54000/54000 [==============================] - 8s 151us/step - loss: 0.3356 - acc: 0.8770 - val_loss: 0.3253 - val_acc: 0.8832\n",
      "Epoch 13/45\n",
      "54000/54000 [==============================] - 8s 143us/step - loss: 0.3312 - acc: 0.8769 - val_loss: 0.3181 - val_acc: 0.8820\n",
      "Epoch 14/45\n",
      "54000/54000 [==============================] - 8s 144us/step - loss: 0.3237 - acc: 0.8806 - val_loss: 0.3106 - val_acc: 0.8860\n",
      "Epoch 15/45\n",
      "54000/54000 [==============================] - 8s 144us/step - loss: 0.3217 - acc: 0.8797 - val_loss: 0.3228 - val_acc: 0.8848\n",
      "Epoch 16/45\n",
      "54000/54000 [==============================] - 7s 138us/step - loss: 0.3218 - acc: 0.8817 - val_loss: 0.3213 - val_acc: 0.8822\n",
      "Epoch 17/45\n",
      "54000/54000 [==============================] - 7s 135us/step - loss: 0.3135 - acc: 0.8842 - val_loss: 0.3151 - val_acc: 0.8825\n",
      "Epoch 18/45\n",
      "54000/54000 [==============================] - 7s 132us/step - loss: 0.3120 - acc: 0.8839 - val_loss: 0.3079 - val_acc: 0.8872\n",
      "Epoch 19/45\n",
      "54000/54000 [==============================] - 7s 132us/step - loss: 0.3056 - acc: 0.8859 - val_loss: 0.3090 - val_acc: 0.8848\n",
      "Epoch 20/45\n",
      "54000/54000 [==============================] - 7s 133us/step - loss: 0.3057 - acc: 0.8864 - val_loss: 0.3063 - val_acc: 0.8825\n",
      "Epoch 21/45\n",
      "54000/54000 [==============================] - 7s 136us/step - loss: 0.2987 - acc: 0.8881 - val_loss: 0.3137 - val_acc: 0.8820\n",
      "Epoch 22/45\n",
      "54000/54000 [==============================] - 8s 151us/step - loss: 0.2981 - acc: 0.8891 - val_loss: 0.2959 - val_acc: 0.8902\n",
      "Epoch 23/45\n",
      "54000/54000 [==============================] - 9s 169us/step - loss: 0.2957 - acc: 0.8884 - val_loss: 0.3207 - val_acc: 0.8852\n",
      "Epoch 24/45\n",
      "54000/54000 [==============================] - 9s 165us/step - loss: 0.2906 - acc: 0.8936 - val_loss: 0.3089 - val_acc: 0.8860\n",
      "Epoch 25/45\n",
      "54000/54000 [==============================] - 9s 163us/step - loss: 0.2901 - acc: 0.8901 - val_loss: 0.3008 - val_acc: 0.8897\n",
      "Epoch 26/45\n",
      "54000/54000 [==============================] - 9s 167us/step - loss: 0.2857 - acc: 0.8938 - val_loss: 0.3040 - val_acc: 0.8870\n",
      "Epoch 27/45\n",
      "54000/54000 [==============================] - 9s 163us/step - loss: 0.2863 - acc: 0.8943 - val_loss: 0.2996 - val_acc: 0.8910\n",
      "Epoch 28/45\n",
      "54000/54000 [==============================] - 9s 162us/step - loss: 0.2832 - acc: 0.8960 - val_loss: 0.2970 - val_acc: 0.8870\n",
      "Epoch 29/45\n",
      "54000/54000 [==============================] - 8s 155us/step - loss: 0.2792 - acc: 0.8952 - val_loss: 0.2899 - val_acc: 0.8953\n",
      "Epoch 30/45\n",
      "54000/54000 [==============================] - 8s 150us/step - loss: 0.2814 - acc: 0.8954 - val_loss: 0.3059 - val_acc: 0.8903\n",
      "Epoch 31/45\n",
      "54000/54000 [==============================] - 8s 153us/step - loss: 0.2785 - acc: 0.8972 - val_loss: 0.2888 - val_acc: 0.8923\n",
      "Epoch 32/45\n",
      "54000/54000 [==============================] - 8s 153us/step - loss: 0.2765 - acc: 0.8963 - val_loss: 0.2987 - val_acc: 0.8948\n",
      "Epoch 33/45\n",
      "54000/54000 [==============================] - 8s 146us/step - loss: 0.2759 - acc: 0.8961 - val_loss: 0.3076 - val_acc: 0.8863\n",
      "Epoch 34/45\n",
      "54000/54000 [==============================] - 8s 148us/step - loss: 0.2719 - acc: 0.8980 - val_loss: 0.3067 - val_acc: 0.8885\n",
      "Epoch 35/45\n",
      "54000/54000 [==============================] - 8s 147us/step - loss: 0.2708 - acc: 0.8984 - val_loss: 0.3047 - val_acc: 0.8913\n",
      "Epoch 36/45\n",
      "54000/54000 [==============================] - 8s 155us/step - loss: 0.2666 - acc: 0.8999 - val_loss: 0.3096 - val_acc: 0.8880\n",
      "Epoch 37/45\n",
      "54000/54000 [==============================] - 8s 152us/step - loss: 0.2667 - acc: 0.8994 - val_loss: 0.2978 - val_acc: 0.8913\n",
      "Epoch 38/45\n",
      "54000/54000 [==============================] - 8s 148us/step - loss: 0.2687 - acc: 0.8996 - val_loss: 0.2980 - val_acc: 0.8927\n",
      "Epoch 39/45\n",
      "54000/54000 [==============================] - 8s 150us/step - loss: 0.2651 - acc: 0.9007 - val_loss: 0.2973 - val_acc: 0.8943\n",
      "Epoch 40/45\n",
      "54000/54000 [==============================] - 8s 147us/step - loss: 0.2565 - acc: 0.9033 - val_loss: 0.2948 - val_acc: 0.8925\n",
      "Epoch 41/45\n",
      "54000/54000 [==============================] - 9s 163us/step - loss: 0.2611 - acc: 0.8999 - val_loss: 0.2972 - val_acc: 0.8930\n",
      "Epoch 42/45\n",
      "54000/54000 [==============================] - 8s 149us/step - loss: 0.2592 - acc: 0.9025 - val_loss: 0.2970 - val_acc: 0.8930\n",
      "Epoch 43/45\n",
      "54000/54000 [==============================] - 8s 148us/step - loss: 0.2553 - acc: 0.9050 - val_loss: 0.3055 - val_acc: 0.8935\n",
      "Epoch 44/45\n",
      "54000/54000 [==============================] - 9s 166us/step - loss: 0.2539 - acc: 0.9049 - val_loss: 0.2900 - val_acc: 0.8997\n",
      "Epoch 45/45\n",
      "54000/54000 [==============================] - 9s 164us/step - loss: 0.2545 - acc: 0.9033 - val_loss: 0.2948 - val_acc: 0.8950\n"
     ]
    }
   ],
   "source": [
    "from keras.layers import Dropout\n",
    "model_dropout = Sequential([\n",
    "    Dense(512, input_shape=(784,), activation='relu'),\n",
    "    Dropout(.5),\n",
    "    Dense(512, activation = 'relu'),\n",
    "    Dropout(.5),\n",
    "    Dense(10, activation='softmax'),\n",
    "])\n",
    "model_dropout.compile(\"adam\", \"categorical_crossentropy\", metrics=['accuracy'])\n",
    "history_dropout = model_dropout.fit(X_train, y_train, batch_size=128,\n",
    "                            epochs=45, verbose=1, validation_split=.1)"
   ]
  },
  {
   "cell_type": "code",
   "execution_count": 0,
   "metadata": {
    "colab": {
     "base_uri": "https://localhost:8080/",
     "height": 286
    },
    "colab_type": "code",
    "id": "QuPe7Kt0Lf6y",
    "outputId": "db0dc8b7-d999-456c-8a21-4e10cd7bbe25"
   },
   "outputs": [
    {
     "data": {
      "text/plain": [
       "Text(0, 0.5, 'loss')"
      ]
     },
     "execution_count": 105,
     "metadata": {
      "tags": []
     },
     "output_type": "execute_result"
    },
    {
     "data": {
      "image/png": "[encoded data removed]",
      "text/plain": [
       "<Figure size 432x288 with 2 Axes>"
      ]
     },
     "metadata": {
      "tags": []
     },
     "output_type": "display_data"
    }
   ],
   "source": [
    "df = pd.DataFrame(history_dropout.history)\n",
    "df[['acc', 'val_acc']].plot()\n",
    "plt.ylabel(\"accuracy\")\n",
    "df[['loss', 'val_loss']].plot(linestyle='--', ax=plt.twinx())\n",
    "plt.ylabel(\"loss\")"
   ]
  },
  {
   "cell_type": "code",
   "execution_count": 0,
   "metadata": {
    "colab": {
     "base_uri": "https://localhost:8080/",
     "height": 34
    },
    "colab_type": "code",
    "id": "JBxGP6wKL6MN",
    "outputId": "49d9b1ad-aae1-4f20-9951-7a778ad0023b"
   },
   "outputs": [
    {
     "data": {
      "text/plain": [
       "[0.3124411096572876, 0.8893]"
      ]
     },
     "execution_count": 106,
     "metadata": {
      "tags": []
     },
     "output_type": "execute_result"
    }
   ],
   "source": [
    "score2 = model_dropout.evaluate(X_test, y_test, verbose=0)\n",
    "score2"
   ]
  },
  {
   "cell_type": "markdown",
   "metadata": {
    "colab_type": "text",
    "id": "ycB_yuZrL6yn"
   },
   "source": [
    "### Model using batch normalization and residual connections (but not dropout)."
   ]
  },
  {
   "cell_type": "code",
   "execution_count": 0,
   "metadata": {
    "colab": {},
    "colab_type": "code",
    "id": "qSFobJ6WMARO"
   },
   "outputs": [],
   "source": [
    "from keras.layers import BatchNormalization, add\n",
    "from keras.layers import Input, Dense\n",
    "from keras.models import Model\n"
   ]
  },
  {
   "cell_type": "code",
   "execution_count": 11,
   "metadata": {
    "colab": {
     "base_uri": "https://localhost:8080/",
     "height": 1635
    },
    "colab_type": "code",
    "id": "va19LCWOF3_7",
    "outputId": "6874b3c4-bc50-4c9a-bc9b-1038933963e3"
   },
   "outputs": [
    {
     "name": "stdout",
     "output_type": "stream",
     "text": [
      "WARNING:tensorflow:From /usr/local/lib/python3.6/dist-packages/tensorflow/python/ops/math_ops.py:3066: to_int32 (from tensorflow.python.ops.math_ops) is deprecated and will be removed in a future version.\n",
      "Instructions for updating:\n",
      "Use tf.cast instead.\n",
      "Train on 54000 samples, validate on 6000 samples\n",
      "Epoch 1/45\n",
      "54000/54000 [==============================] - 12s 220us/step - loss: 0.4527 - acc: 0.8384 - val_loss: 0.4421 - val_acc: 0.8417\n",
      "Epoch 2/45\n",
      "54000/54000 [==============================] - 11s 206us/step - loss: 0.3540 - acc: 0.8709 - val_loss: 0.4150 - val_acc: 0.8577\n",
      "Epoch 3/45\n",
      "54000/54000 [==============================] - 11s 198us/step - loss: 0.3268 - acc: 0.8793 - val_loss: 0.4279 - val_acc: 0.8450\n",
      "Epoch 4/45\n",
      "54000/54000 [==============================] - 11s 198us/step - loss: 0.3049 - acc: 0.8860 - val_loss: 0.5532 - val_acc: 0.8377\n",
      "Epoch 5/45\n",
      "54000/54000 [==============================] - 10s 194us/step - loss: 0.2900 - acc: 0.8909 - val_loss: 0.3546 - val_acc: 0.8752\n",
      "Epoch 6/45\n",
      "54000/54000 [==============================] - 11s 195us/step - loss: 0.2768 - acc: 0.8965 - val_loss: 0.3648 - val_acc: 0.8715\n",
      "Epoch 7/45\n",
      "54000/54000 [==============================] - 10s 192us/step - loss: 0.2651 - acc: 0.9022 - val_loss: 0.3595 - val_acc: 0.8740\n",
      "Epoch 8/45\n",
      "54000/54000 [==============================] - 10s 193us/step - loss: 0.2498 - acc: 0.9071 - val_loss: 0.3803 - val_acc: 0.8688\n",
      "Epoch 9/45\n",
      "54000/54000 [==============================] - 10s 193us/step - loss: 0.2408 - acc: 0.9093 - val_loss: 0.3572 - val_acc: 0.8693\n",
      "Epoch 10/45\n",
      "54000/54000 [==============================] - 10s 193us/step - loss: 0.2276 - acc: 0.9145 - val_loss: 0.3553 - val_acc: 0.8722\n",
      "Epoch 11/45\n",
      "54000/54000 [==============================] - 10s 191us/step - loss: 0.2217 - acc: 0.9171 - val_loss: 0.3616 - val_acc: 0.8758\n",
      "Epoch 12/45\n",
      "54000/54000 [==============================] - 10s 190us/step - loss: 0.2125 - acc: 0.9210 - val_loss: 0.3932 - val_acc: 0.8623\n",
      "Epoch 13/45\n",
      "54000/54000 [==============================] - 10s 192us/step - loss: 0.2007 - acc: 0.9235 - val_loss: 0.3484 - val_acc: 0.8825\n",
      "Epoch 14/45\n",
      "54000/54000 [==============================] - 10s 192us/step - loss: 0.1983 - acc: 0.9237 - val_loss: 0.3753 - val_acc: 0.8730\n",
      "Epoch 15/45\n",
      "54000/54000 [==============================] - 10s 191us/step - loss: 0.1914 - acc: 0.9278 - val_loss: 0.3594 - val_acc: 0.8785\n",
      "Epoch 16/45\n",
      "54000/54000 [==============================] - 10s 194us/step - loss: 0.1828 - acc: 0.9306 - val_loss: 0.3890 - val_acc: 0.8743\n",
      "Epoch 17/45\n",
      "54000/54000 [==============================] - 11s 197us/step - loss: 0.1727 - acc: 0.9342 - val_loss: 0.4365 - val_acc: 0.8617\n",
      "Epoch 18/45\n",
      "54000/54000 [==============================] - 10s 193us/step - loss: 0.1661 - acc: 0.9369 - val_loss: 0.4111 - val_acc: 0.8732\n",
      "Epoch 19/45\n",
      "54000/54000 [==============================] - 10s 192us/step - loss: 0.1563 - acc: 0.9401 - val_loss: 0.3860 - val_acc: 0.8808\n",
      "Epoch 20/45\n",
      "54000/54000 [==============================] - 10s 192us/step - loss: 0.1496 - acc: 0.9448 - val_loss: 0.3806 - val_acc: 0.8783\n",
      "Epoch 21/45\n",
      "54000/54000 [==============================] - 10s 193us/step - loss: 0.1442 - acc: 0.9456 - val_loss: 0.3956 - val_acc: 0.8798\n",
      "Epoch 22/45\n",
      "54000/54000 [==============================] - 10s 191us/step - loss: 0.1433 - acc: 0.9452 - val_loss: 0.3926 - val_acc: 0.8882\n",
      "Epoch 23/45\n",
      "54000/54000 [==============================] - 10s 192us/step - loss: 0.1342 - acc: 0.9493 - val_loss: 0.4209 - val_acc: 0.8790\n",
      "Epoch 24/45\n",
      "54000/54000 [==============================] - 10s 193us/step - loss: 0.1332 - acc: 0.9495 - val_loss: 0.7145 - val_acc: 0.8023\n",
      "Epoch 25/45\n",
      "54000/54000 [==============================] - 10s 191us/step - loss: 0.1328 - acc: 0.9498 - val_loss: 0.4342 - val_acc: 0.8742\n",
      "Epoch 26/45\n",
      "54000/54000 [==============================] - 10s 192us/step - loss: 0.1227 - acc: 0.9532 - val_loss: 0.4226 - val_acc: 0.8722\n",
      "Epoch 27/45\n",
      "54000/54000 [==============================] - 10s 194us/step - loss: 0.1173 - acc: 0.9561 - val_loss: 0.4709 - val_acc: 0.8652\n",
      "Epoch 28/45\n",
      "54000/54000 [==============================] - 10s 192us/step - loss: 0.1130 - acc: 0.9581 - val_loss: 0.4681 - val_acc: 0.8817\n",
      "Epoch 29/45\n",
      "54000/54000 [==============================] - 10s 193us/step - loss: 0.1076 - acc: 0.9598 - val_loss: 0.4212 - val_acc: 0.8825\n",
      "Epoch 30/45\n",
      "54000/54000 [==============================] - 10s 194us/step - loss: 0.1057 - acc: 0.9593 - val_loss: 0.4474 - val_acc: 0.8807\n",
      "Epoch 31/45\n",
      "54000/54000 [==============================] - 11s 199us/step - loss: 0.1009 - acc: 0.9611 - val_loss: 0.4769 - val_acc: 0.8798\n",
      "Epoch 32/45\n",
      "54000/54000 [==============================] - 11s 204us/step - loss: 0.0988 - acc: 0.9628 - val_loss: 0.5170 - val_acc: 0.8803\n",
      "Epoch 33/45\n",
      "54000/54000 [==============================] - 10s 194us/step - loss: 0.0916 - acc: 0.9662 - val_loss: 0.4618 - val_acc: 0.8840\n",
      "Epoch 34/45\n",
      "54000/54000 [==============================] - 11s 195us/step - loss: 0.0899 - acc: 0.9661 - val_loss: 0.4770 - val_acc: 0.8827\n",
      "Epoch 35/45\n",
      "54000/54000 [==============================] - 10s 194us/step - loss: 0.0837 - acc: 0.9690 - val_loss: 0.5101 - val_acc: 0.8765\n",
      "Epoch 36/45\n",
      "54000/54000 [==============================] - 11s 195us/step - loss: 0.0821 - acc: 0.9684 - val_loss: 0.4848 - val_acc: 0.8858\n",
      "Epoch 37/45\n",
      "54000/54000 [==============================] - 10s 192us/step - loss: 0.0763 - acc: 0.9707 - val_loss: 0.5225 - val_acc: 0.8877\n",
      "Epoch 38/45\n",
      "54000/54000 [==============================] - 10s 194us/step - loss: 0.0798 - acc: 0.9704 - val_loss: 0.5072 - val_acc: 0.8822\n",
      "Epoch 39/45\n",
      "54000/54000 [==============================] - 10s 194us/step - loss: 0.0807 - acc: 0.9702 - val_loss: 0.5057 - val_acc: 0.8790\n",
      "Epoch 40/45\n",
      "54000/54000 [==============================] - 11s 195us/step - loss: 0.0720 - acc: 0.9731 - val_loss: 0.5463 - val_acc: 0.8807\n",
      "Epoch 41/45\n",
      "54000/54000 [==============================] - 10s 192us/step - loss: 0.0701 - acc: 0.9733 - val_loss: 0.5101 - val_acc: 0.8853\n",
      "Epoch 42/45\n",
      "54000/54000 [==============================] - 10s 190us/step - loss: 0.0717 - acc: 0.9730 - val_loss: 0.6491 - val_acc: 0.8630\n",
      "Epoch 43/45\n",
      "54000/54000 [==============================] - 10s 192us/step - loss: 0.0656 - acc: 0.9749 - val_loss: 0.5446 - val_acc: 0.8868\n",
      "Epoch 44/45\n",
      "54000/54000 [==============================] - 10s 192us/step - loss: 0.0626 - acc: 0.9757 - val_loss: 0.5282 - val_acc: 0.8898\n",
      "Epoch 45/45\n",
      "54000/54000 [==============================] - 10s 191us/step - loss: 0.0644 - acc: 0.9753 - val_loss: 0.5323 - val_acc: 0.8872\n"
     ]
    }
   ],
   "source": [
    "inputs = Input(shape=(784,))\n",
    "x1 = Dense(512, activation='relu')(inputs)\n",
    "bn1 = BatchNormalization()(x1)\n",
    "x2 = Dense(512, activation='relu')(bn1)\n",
    "\n",
    "\n",
    "skip1 = add([x1, x2])\n",
    "bn2 = BatchNormalization()(skip1)\n",
    "predictions = Dense(10, activation='softmax')(bn2)\n",
    "model_bn_res = Model(inputs=inputs, outputs=predictions)\n",
    "model_bn_res.compile(optimizer='adam',\n",
    "              loss='categorical_crossentropy',\n",
    "              metrics=['accuracy'])\n",
    "history_bn_res = model_bn_res.fit(X_train, y_train,  batch_size=128, epochs=45, verbose=1, validation_split=.1)\n",
    "#model_bn_res.summary()"
   ]
  },
  {
   "cell_type": "code",
   "execution_count": 13,
   "metadata": {
    "colab": {
     "base_uri": "https://localhost:8080/",
     "height": 286
    },
    "colab_type": "code",
    "id": "aO9HtAG_JjDr",
    "outputId": "e0932b05-9863-422f-b2f0-cc361f7d7248"
   },
   "outputs": [
    {
     "data": {
      "text/plain": [
       "<matplotlib.axes._subplots.AxesSubplot at 0x7f8aa7c2b3c8>"
      ]
     },
     "execution_count": 13,
     "metadata": {
      "tags": []
     },
     "output_type": "execute_result"
    },
    {
     "data": {
      "image/png": "[encoded data removed]",
      "text/plain": [
       "<Figure size 432x288 with 1 Axes>"
      ]
     },
     "metadata": {
      "tags": []
     },
     "output_type": "display_data"
    }
   ],
   "source": [
    "pd.DataFrame(history_bn_res.history).plot()"
   ]
  },
  {
   "cell_type": "code",
   "execution_count": 14,
   "metadata": {
    "colab": {
     "base_uri": "https://localhost:8080/",
     "height": 34
    },
    "colab_type": "code",
    "id": "ELC7uNqGSrbi",
    "outputId": "6af75050-78f4-4c7f-89b7-360b9b5bc5ab"
   },
   "outputs": [
    {
     "data": {
      "text/plain": [
       "[0.5473387231767177, 0.8889]"
      ]
     },
     "execution_count": 14,
     "metadata": {
      "tags": []
     },
     "output_type": "execute_result"
    }
   ],
   "source": [
    "score3 = model_bn_res.evaluate(X_test, y_test, verbose=0)\n",
    "score3"
   ]
  },
  {
   "cell_type": "code",
   "execution_count": 0,
   "metadata": {
    "colab": {},
    "colab_type": "code",
    "id": "CqDMWrgcTqAG"
   },
   "outputs": [],
   "source": []
  }
 ],
 "metadata": {
  "colab": {
   "collapsed_sections": [],
   "name": "HW5_Task2.ipynb",
   "provenance": [],
   "version": "0.3.2"
  },
  "kernelspec": {
   "display_name": "Python 3",
   "language": "python",
   "name": "python3"
  },
  "language_info": {
   "codemirror_mode": {
    "name": "ipython",
    "version": 3
   },
   "file_extension": ".py",
   "mimetype": "text/x-python",
   "name": "python",
   "nbconvert_exporter": "python",
   "pygments_lexer": "ipython3",
   "version": "3.6.8"
  }
 },
 "nbformat": 4,
 "nbformat_minor": 1
}
